{
 "cells": [
  {
   "cell_type": "markdown",
   "metadata": {},
   "source": [
    "# Content\n",
    "* Importing Libraries\n",
    "* Constants\n",
    "* Preprocessing\n",
    "    * Normalizing\n",
    "    * Tokenizing\n",
    "    * Stemming\n",
    "    * Lemmatizing\n",
    "* Feature Engineering\n",
    "    * Bag of Words\n",
    "    * FastText Word2Vec\n",
    "* Model Selection\n",
    "\n",
    "# Importing Libraries"
   ]
  },
  {
   "cell_type": "code",
   "execution_count": 2,
   "metadata": {},
   "outputs": [],
   "source": [
    "from __future__ import unicode_literals\n",
    "\n",
    "import json\n",
    "import os\n",
    "import numpy as np\n",
    "import re\n",
    "import pandas as pd\n",
    "from functools import reduce\n",
    "from hazm import *\n",
    "from pprint import pprint\n",
    "\n",
    "# Feature Engineering\n",
    "from sklearn import feature_extraction"
   ]
  },
  {
   "cell_type": "markdown",
   "metadata": {},
   "source": [
    "# Constants"
   ]
  },
  {
   "cell_type": "code",
   "execution_count": 3,
   "metadata": {},
   "outputs": [],
   "source": [
    "# Data root path\n",
    "data_root = 'data'\n",
    "\n",
    "# Dataset dataframe column names\n",
    "keys = None\n",
    "\n",
    "# News headline tags\n",
    "valid_tags = None\n",
    "\n",
    "# News agencies\n",
    "news_agencies = None"
   ]
  },
  {
   "cell_type": "markdown",
   "metadata": {},
   "source": [
    "# Preprocessing"
   ]
  },
  {
   "cell_type": "markdown",
   "metadata": {},
   "source": [
    "### Import Dataset"
   ]
  },
  {
   "cell_type": "code",
   "execution_count": 4,
   "metadata": {},
   "outputs": [
    {
     "name": "stdout",
     "output_type": "stream",
     "text": [
      "Number of Datapoints: 1000\n"
     ]
    }
   ],
   "source": [
    "with open(os.path.join(data_root, 'out.jsonl'), encoding='utf-8') as json_data:\n",
    "    news = [json.loads(line) for line in json_data]\n",
    "    news = pd.DataFrame(news)\n",
    "print('Number of Datapoints: {}'.format(len(news)))"
   ]
  },
  {
   "cell_type": "code",
   "execution_count": 5,
   "metadata": {},
   "outputs": [
    {
     "data": {
      "text/html": [
       "<div>\n",
       "<style scoped>\n",
       "    .dataframe tbody tr th:only-of-type {\n",
       "        vertical-align: middle;\n",
       "    }\n",
       "\n",
       "    .dataframe tbody tr th {\n",
       "        vertical-align: top;\n",
       "    }\n",
       "\n",
       "    .dataframe thead th {\n",
       "        text-align: right;\n",
       "    }\n",
       "</style>\n",
       "<table border=\"1\" class=\"dataframe\">\n",
       "  <thead>\n",
       "    <tr style=\"text-align: right;\">\n",
       "      <th></th>\n",
       "      <th>0</th>\n",
       "      <th>1</th>\n",
       "      <th>2</th>\n",
       "      <th>3</th>\n",
       "      <th>4</th>\n",
       "      <th>5</th>\n",
       "      <th>6</th>\n",
       "      <th>7</th>\n",
       "      <th>8</th>\n",
       "      <th>9</th>\n",
       "      <th>10</th>\n",
       "      <th>11</th>\n",
       "      <th>12</th>\n",
       "    </tr>\n",
       "  </thead>\n",
       "  <tbody>\n",
       "    <tr>\n",
       "      <th>0</th>\n",
       "      <td>NewsAgency</td>\n",
       "      <td>_id</td>\n",
       "      <td>body</td>\n",
       "      <td>bodyHtml</td>\n",
       "      <td>date</td>\n",
       "      <td>newsCode</td>\n",
       "      <td>newsLink</td>\n",
       "      <td>newsPath</td>\n",
       "      <td>newsPathLinks</td>\n",
       "      <td>rutitr</td>\n",
       "      <td>subtitle</td>\n",
       "      <td>tags</td>\n",
       "      <td>title</td>\n",
       "    </tr>\n",
       "  </tbody>\n",
       "</table>\n",
       "</div>"
      ],
      "text/plain": [
       "           0    1     2         3     4         5         6         7   \\\n",
       "0  NewsAgency  _id  body  bodyHtml  date  newsCode  newsLink  newsPath   \n",
       "\n",
       "              8       9         10    11     12  \n",
       "0  newsPathLinks  rutitr  subtitle  tags  title  "
      ]
     },
     "execution_count": 5,
     "metadata": {},
     "output_type": "execute_result"
    }
   ],
   "source": [
    "keys = list(news.columns)\n",
    "pd.DataFrame([keys])"
   ]
  },
  {
   "cell_type": "markdown",
   "metadata": {},
   "source": [
    "Lets look at our data"
   ]
  },
  {
   "cell_type": "code",
   "execution_count": 6,
   "metadata": {},
   "outputs": [
    {
     "data": {
      "text/html": [
       "<div>\n",
       "<style scoped>\n",
       "    .dataframe tbody tr th:only-of-type {\n",
       "        vertical-align: middle;\n",
       "    }\n",
       "\n",
       "    .dataframe tbody tr th {\n",
       "        vertical-align: top;\n",
       "    }\n",
       "\n",
       "    .dataframe thead th {\n",
       "        text-align: right;\n",
       "    }\n",
       "</style>\n",
       "<table border=\"1\" class=\"dataframe\">\n",
       "  <thead>\n",
       "    <tr style=\"text-align: right;\">\n",
       "      <th></th>\n",
       "      <th>NewsAgency</th>\n",
       "      <th>_id</th>\n",
       "      <th>body</th>\n",
       "      <th>bodyHtml</th>\n",
       "      <th>date</th>\n",
       "      <th>newsCode</th>\n",
       "      <th>newsLink</th>\n",
       "      <th>newsPath</th>\n",
       "      <th>newsPathLinks</th>\n",
       "      <th>rutitr</th>\n",
       "      <th>subtitle</th>\n",
       "      <th>tags</th>\n",
       "      <th>title</th>\n",
       "    </tr>\n",
       "  </thead>\n",
       "  <tbody>\n",
       "    <tr>\n",
       "      <th>0</th>\n",
       "      <td>AsrIran</td>\n",
       "      <td>5b4f7279020eb20597f401b4</td>\n",
       "      <td>مدیرعامل سابق استقلال از عضویت در هیات مدیره ا...</td>\n",
       "      <td>&lt;img align=\"left\" class=\"news_corner_image\" s...</td>\n",
       "      <td>تاریخ انتشار:  ۲۱:۲۲ - ۲۷ تير ۱۳۹۷ - 18 July 2018</td>\n",
       "      <td>621662</td>\n",
       "      <td>http://www.asriran.com/fa/news/621662</td>\n",
       "      <td>صفحه نخست » ورزشی</td>\n",
       "      <td>{'صفحه نخست': '/fa/archive?service_id=1', 'ورز...</td>\n",
       "      <td></td>\n",
       "      <td></td>\n",
       "      <td>{'استقلال': '/fa/tag/1/استقلال', 'افتخاری': '/...</td>\n",
       "      <td>افتخاری قید ماندن در هیات مدیره استقلال را هم زد</td>\n",
       "    </tr>\n",
       "    <tr>\n",
       "      <th>1</th>\n",
       "      <td>AsrIran</td>\n",
       "      <td>5b4f7279020eb20597f401b5</td>\n",
       "      <td>دادستان انتظامی مالیاتی سازمان امور مالیاتی گف...</td>\n",
       "      <td>&lt;p&gt;&lt;br/&gt;دادستان انتظامی مالیاتی سازمان امور م...</td>\n",
       "      <td>تاریخ انتشار:  ۲۱:۱۱ - ۲۷ تير ۱۳۹۷ - 18 July 2018</td>\n",
       "      <td>621659</td>\n",
       "      <td>http://www.asriran.com/fa/news/621659</td>\n",
       "      <td>صفحه نخست » اجتماعی</td>\n",
       "      <td>{'صفحه نخست': '/fa/archive?service_id=1', 'اجت...</td>\n",
       "      <td></td>\n",
       "      <td></td>\n",
       "      <td>{'مالیات': '/fa/tag/1/مالیات', 'دادستان': '/fa...</td>\n",
       "      <td>دادستان انتظامی مالیاتی سازمان مالیات: آخرین ا...</td>\n",
       "    </tr>\n",
       "  </tbody>\n",
       "</table>\n",
       "</div>"
      ],
      "text/plain": [
       "  NewsAgency                       _id  \\\n",
       "0    AsrIran  5b4f7279020eb20597f401b4   \n",
       "1    AsrIran  5b4f7279020eb20597f401b5   \n",
       "\n",
       "                                                body  \\\n",
       "0  مدیرعامل سابق استقلال از عضویت در هیات مدیره ا...   \n",
       "1  دادستان انتظامی مالیاتی سازمان امور مالیاتی گف...   \n",
       "\n",
       "                                            bodyHtml  \\\n",
       "0   <img align=\"left\" class=\"news_corner_image\" s...   \n",
       "1   <p><br/>دادستان انتظامی مالیاتی سازمان امور م...   \n",
       "\n",
       "                                                date newsCode  \\\n",
       "0  تاریخ انتشار:  ۲۱:۲۲ - ۲۷ تير ۱۳۹۷ - 18 July 2018   621662   \n",
       "1  تاریخ انتشار:  ۲۱:۱۱ - ۲۷ تير ۱۳۹۷ - 18 July 2018   621659   \n",
       "\n",
       "                                newsLink             newsPath  \\\n",
       "0  http://www.asriran.com/fa/news/621662    صفحه نخست » ورزشی   \n",
       "1  http://www.asriran.com/fa/news/621659  صفحه نخست » اجتماعی   \n",
       "\n",
       "                                       newsPathLinks rutitr subtitle  \\\n",
       "0  {'صفحه نخست': '/fa/archive?service_id=1', 'ورز...                   \n",
       "1  {'صفحه نخست': '/fa/archive?service_id=1', 'اجت...                   \n",
       "\n",
       "                                                tags  \\\n",
       "0  {'استقلال': '/fa/tag/1/استقلال', 'افتخاری': '/...   \n",
       "1  {'مالیات': '/fa/tag/1/مالیات', 'دادستان': '/fa...   \n",
       "\n",
       "                                               title  \n",
       "0   افتخاری قید ماندن در هیات مدیره استقلال را هم زد  \n",
       "1  دادستان انتظامی مالیاتی سازمان مالیات: آخرین ا...  "
      ]
     },
     "execution_count": 6,
     "metadata": {},
     "output_type": "execute_result"
    }
   ],
   "source": [
    "news.head(2)"
   ]
  },
  {
   "cell_type": "markdown",
   "metadata": {},
   "source": [
    "### subtitle & rutitr"
   ]
  },
  {
   "cell_type": "code",
   "execution_count": 7,
   "metadata": {},
   "outputs": [
    {
     "name": "stdout",
     "output_type": "stream",
     "text": [
      "692    همایون حائری معاون وزیر نیرو به پول نیوزمی‌گوی...\n",
      "393    به دلیل انصراف باشگاه استقلال از حضور در مسابق...\n",
      "456                                                     \n",
      "313    قرار است بدون پرداخت هزینه، رانندگان و خانواده...\n",
      "314    فردا ( ۲۷ تیرماه) در ساعات بعدازظهر و اوایل شب...\n",
      "Name: subtitle, dtype: object\n",
      "258    \n",
      "Name: rutitr, dtype: object\n"
     ]
    }
   ],
   "source": [
    "print(news.subtitle.sample(5))\n",
    "print(news.rutitr.sample())"
   ]
  },
  {
   "cell_type": "markdown",
   "metadata": {},
   "source": [
    "As we can see, there might not exist any 'subtitle' or 'rutitr', so we drop them if they do not have valuable features."
   ]
  },
  {
   "cell_type": "code",
   "execution_count": 8,
   "metadata": {},
   "outputs": [
    {
     "name": "stdout",
     "output_type": "stream",
     "text": [
      "Not null 'subtitle'  569\n",
      "Not null 'rutitr'  50\n"
     ]
    }
   ],
   "source": [
    "print(\"Not null 'subtitle' \",len([i for i in news.subtitle if len(i) != 0]))\n",
    "print(\"Not null 'rutitr' \",len([i for i in news.rutitr if len(i) != 0]))"
   ]
  },
  {
   "cell_type": "markdown",
   "metadata": {},
   "source": [
    "So based on information we got here, we know that these columns can help us, so we consider them."
   ]
  },
  {
   "cell_type": "markdown",
   "metadata": {},
   "source": [
    "### Drop Useless Columns"
   ]
  },
  {
   "cell_type": "markdown",
   "metadata": {},
   "source": [
    "But it is clear for us, `date`,`newsCode`, `newsLink`,`bodyHtml` and `_id` are useless features. So we remove them from our dataset.\n"
   ]
  },
  {
   "cell_type": "code",
   "execution_count": 9,
   "metadata": {},
   "outputs": [],
   "source": [
    "news = news.drop(['_id','date','newsCode','newsLink','bodyHtml'], axis=1)"
   ]
  },
  {
   "cell_type": "code",
   "execution_count": 10,
   "metadata": {},
   "outputs": [
    {
     "data": {
      "text/html": [
       "<div>\n",
       "<style scoped>\n",
       "    .dataframe tbody tr th:only-of-type {\n",
       "        vertical-align: middle;\n",
       "    }\n",
       "\n",
       "    .dataframe tbody tr th {\n",
       "        vertical-align: top;\n",
       "    }\n",
       "\n",
       "    .dataframe thead th {\n",
       "        text-align: right;\n",
       "    }\n",
       "</style>\n",
       "<table border=\"1\" class=\"dataframe\">\n",
       "  <thead>\n",
       "    <tr style=\"text-align: right;\">\n",
       "      <th></th>\n",
       "      <th>NewsAgency</th>\n",
       "      <th>body</th>\n",
       "      <th>newsPath</th>\n",
       "      <th>newsPathLinks</th>\n",
       "      <th>rutitr</th>\n",
       "      <th>subtitle</th>\n",
       "      <th>tags</th>\n",
       "      <th>title</th>\n",
       "    </tr>\n",
       "  </thead>\n",
       "  <tbody>\n",
       "    <tr>\n",
       "      <th>0</th>\n",
       "      <td>AsrIran</td>\n",
       "      <td>مدیرعامل سابق استقلال از عضویت در هیات مدیره ا...</td>\n",
       "      <td>صفحه نخست » ورزشی</td>\n",
       "      <td>{'صفحه نخست': '/fa/archive?service_id=1', 'ورز...</td>\n",
       "      <td></td>\n",
       "      <td></td>\n",
       "      <td>{'استقلال': '/fa/tag/1/استقلال', 'افتخاری': '/...</td>\n",
       "      <td>افتخاری قید ماندن در هیات مدیره استقلال را هم زد</td>\n",
       "    </tr>\n",
       "    <tr>\n",
       "      <th>1</th>\n",
       "      <td>AsrIran</td>\n",
       "      <td>دادستان انتظامی مالیاتی سازمان امور مالیاتی گف...</td>\n",
       "      <td>صفحه نخست » اجتماعی</td>\n",
       "      <td>{'صفحه نخست': '/fa/archive?service_id=1', 'اجت...</td>\n",
       "      <td></td>\n",
       "      <td></td>\n",
       "      <td>{'مالیات': '/fa/tag/1/مالیات', 'دادستان': '/fa...</td>\n",
       "      <td>دادستان انتظامی مالیاتی سازمان مالیات: آخرین ا...</td>\n",
       "    </tr>\n",
       "    <tr>\n",
       "      <th>2</th>\n",
       "      <td>AsrIran</td>\n",
       "      <td>قیمت سبد نفتی اوپک دیروز به روند کاهشی خود ادا...</td>\n",
       "      <td>صفحه نخست » اقتصادی</td>\n",
       "      <td>{'صفحه نخست': '/fa/archive?service_id=1', 'اقت...</td>\n",
       "      <td></td>\n",
       "      <td></td>\n",
       "      <td>{'اوپک': '/fa/tag/1/اوپک', 'نفت': '/fa/tag/1/ن...</td>\n",
       "      <td>قیمت سبد نفتی اوپک یک گام دیگر عقب نشست/ 70 دل...</td>\n",
       "    </tr>\n",
       "    <tr>\n",
       "      <th>3</th>\n",
       "      <td>AsrIran</td>\n",
       "      <td>رئیس فراکسیون فرهنگیان مجلس خطاب به وزیر آموزش...</td>\n",
       "      <td>صفحه نخست » اجتماعی</td>\n",
       "      <td>{'صفحه نخست': '/fa/archive?service_id=1', 'اجت...</td>\n",
       "      <td></td>\n",
       "      <td></td>\n",
       "      <td>{'آموزش و پرورش': '/fa/tag/1/آموزش و پرورش', '...</td>\n",
       "      <td>حاجی‌بابایی به بطحایی:آقای وزیر در اطلاع‌رسانی...</td>\n",
       "    </tr>\n",
       "    <tr>\n",
       "      <th>4</th>\n",
       "      <td>AsrIran</td>\n",
       "      <td>رئیس صندوق بین&amp;zwnj;المللی پول در آستانه نشست ...</td>\n",
       "      <td>صفحه نخست » بین الملل</td>\n",
       "      <td>{'صفحه نخست': '/fa/archive?service_id=1', 'بین...</td>\n",
       "      <td></td>\n",
       "      <td></td>\n",
       "      <td>{'صندوق بین المللی پول': '/fa/tag/1/صندوق بین ...</td>\n",
       "      <td>رئیس صندوق بین‌المللی پول: آمریکا از جنگ تعرفه...</td>\n",
       "    </tr>\n",
       "  </tbody>\n",
       "</table>\n",
       "</div>"
      ],
      "text/plain": [
       "  NewsAgency                                               body  \\\n",
       "0    AsrIran  مدیرعامل سابق استقلال از عضویت در هیات مدیره ا...   \n",
       "1    AsrIran  دادستان انتظامی مالیاتی سازمان امور مالیاتی گف...   \n",
       "2    AsrIran  قیمت سبد نفتی اوپک دیروز به روند کاهشی خود ادا...   \n",
       "3    AsrIran  رئیس فراکسیون فرهنگیان مجلس خطاب به وزیر آموزش...   \n",
       "4    AsrIran  رئیس صندوق بین&zwnj;المللی پول در آستانه نشست ...   \n",
       "\n",
       "                newsPath                                      newsPathLinks  \\\n",
       "0      صفحه نخست » ورزشی  {'صفحه نخست': '/fa/archive?service_id=1', 'ورز...   \n",
       "1    صفحه نخست » اجتماعی  {'صفحه نخست': '/fa/archive?service_id=1', 'اجت...   \n",
       "2    صفحه نخست » اقتصادی  {'صفحه نخست': '/fa/archive?service_id=1', 'اقت...   \n",
       "3    صفحه نخست » اجتماعی  {'صفحه نخست': '/fa/archive?service_id=1', 'اجت...   \n",
       "4  صفحه نخست » بین الملل  {'صفحه نخست': '/fa/archive?service_id=1', 'بین...   \n",
       "\n",
       "  rutitr subtitle                                               tags  \\\n",
       "0                  {'استقلال': '/fa/tag/1/استقلال', 'افتخاری': '/...   \n",
       "1                  {'مالیات': '/fa/tag/1/مالیات', 'دادستان': '/fa...   \n",
       "2                  {'اوپک': '/fa/tag/1/اوپک', 'نفت': '/fa/tag/1/ن...   \n",
       "3                  {'آموزش و پرورش': '/fa/tag/1/آموزش و پرورش', '...   \n",
       "4                  {'صندوق بین المللی پول': '/fa/tag/1/صندوق بین ...   \n",
       "\n",
       "                                               title  \n",
       "0   افتخاری قید ماندن در هیات مدیره استقلال را هم زد  \n",
       "1  دادستان انتظامی مالیاتی سازمان مالیات: آخرین ا...  \n",
       "2  قیمت سبد نفتی اوپک یک گام دیگر عقب نشست/ 70 دل...  \n",
       "3  حاجی‌بابایی به بطحایی:آقای وزیر در اطلاع‌رسانی...  \n",
       "4  رئیس صندوق بین‌المللی پول: آمریکا از جنگ تعرفه...  "
      ]
     },
     "execution_count": 10,
     "metadata": {},
     "output_type": "execute_result"
    }
   ],
   "source": [
    "news.head(5)"
   ]
  },
  {
   "cell_type": "markdown",
   "metadata": {},
   "source": [
    "### newsPath & newsPathLinks"
   ]
  },
  {
   "cell_type": "code",
   "execution_count": 11,
   "metadata": {},
   "outputs": [
    {
     "name": "stdout",
     "output_type": "stream",
     "text": [
      "news path links and news path show the same thing? =>  True\n"
     ]
    },
    {
     "data": {
      "text/html": [
       "<div>\n",
       "<style scoped>\n",
       "    .dataframe tbody tr th:only-of-type {\n",
       "        vertical-align: middle;\n",
       "    }\n",
       "\n",
       "    .dataframe tbody tr th {\n",
       "        vertical-align: top;\n",
       "    }\n",
       "\n",
       "    .dataframe thead th {\n",
       "        text-align: right;\n",
       "    }\n",
       "</style>\n",
       "<table border=\"1\" class=\"dataframe\">\n",
       "  <thead>\n",
       "    <tr style=\"text-align: right;\">\n",
       "      <th></th>\n",
       "      <th>0</th>\n",
       "      <th>1</th>\n",
       "      <th>2</th>\n",
       "      <th>3</th>\n",
       "      <th>4</th>\n",
       "      <th>5</th>\n",
       "      <th>6</th>\n",
       "      <th>7</th>\n",
       "      <th>8</th>\n",
       "      <th>9</th>\n",
       "      <th>10</th>\n",
       "      <th>11</th>\n",
       "      <th>12</th>\n",
       "      <th>13</th>\n",
       "      <th>14</th>\n",
       "      <th>15</th>\n",
       "      <th>16</th>\n",
       "    </tr>\n",
       "  </thead>\n",
       "  <tbody>\n",
       "    <tr>\n",
       "      <th>0</th>\n",
       "      <td>اقتصادی</td>\n",
       "      <td>سیاست خارجی</td>\n",
       "      <td>علمی</td>\n",
       "      <td>دانلود</td>\n",
       "      <td>ورزشی</td>\n",
       "      <td>سرگرمی</td>\n",
       "      <td>حوادث</td>\n",
       "      <td>داستان کوتاه</td>\n",
       "      <td>فرهنگی/هنری</td>\n",
       "      <td>سیاسی</td>\n",
       "      <td>اجتماعی</td>\n",
       "      <td>بین الملل</td>\n",
       "      <td>سلامت</td>\n",
       "      <td>عمومی</td>\n",
       "      <td>روانشناسی</td>\n",
       "      <td>فناوری و IT</td>\n",
       "      <td>خواندنی ها و دیدنی ها</td>\n",
       "    </tr>\n",
       "  </tbody>\n",
       "</table>\n",
       "</div>"
      ],
      "text/plain": [
       "        0            1     2       3      4       5      6             7   \\\n",
       "0  اقتصادی  سیاست خارجی  علمی  دانلود  ورزشی  سرگرمی  حوادث  داستان کوتاه   \n",
       "\n",
       "            8      9        10         11     12     13         14  \\\n",
       "0  فرهنگی/هنری  سیاسی  اجتماعی  بین الملل  سلامت  عمومی  روانشناسی   \n",
       "\n",
       "            15                     16  \n",
       "0  فناوری و IT  خواندنی ها و دیدنی ها  "
      ]
     },
     "execution_count": 11,
     "metadata": {},
     "output_type": "execute_result"
    }
   ],
   "source": [
    "newspathlinks_tags = list(set([list(x.keys())[1] for x in news.newsPathLinks]))\n",
    "newspath_tags = list(set(x.split(' » ')[1] for x in news.newsPath))\n",
    "print(\"news path links and news path show the same thing? => \", newspath_tags == newspathlinks_tags)\n",
    "valid_tags = newspath_tags\n",
    "pd.DataFrame([valid_tags])"
   ]
  },
  {
   "cell_type": "markdown",
   "metadata": {},
   "source": [
    "Note: we can remove `newsPathLinks` because it is exactly duplicate of `newsPath` and update `newsPath` column in dataframe with just one keyword"
   ]
  },
  {
   "cell_type": "code",
   "execution_count": 12,
   "metadata": {},
   "outputs": [
    {
     "data": {
      "text/html": [
       "<div>\n",
       "<style scoped>\n",
       "    .dataframe tbody tr th:only-of-type {\n",
       "        vertical-align: middle;\n",
       "    }\n",
       "\n",
       "    .dataframe tbody tr th {\n",
       "        vertical-align: top;\n",
       "    }\n",
       "\n",
       "    .dataframe thead th {\n",
       "        text-align: right;\n",
       "    }\n",
       "</style>\n",
       "<table border=\"1\" class=\"dataframe\">\n",
       "  <thead>\n",
       "    <tr style=\"text-align: right;\">\n",
       "      <th></th>\n",
       "      <th>NewsAgency</th>\n",
       "      <th>body</th>\n",
       "      <th>newsPath</th>\n",
       "      <th>rutitr</th>\n",
       "      <th>subtitle</th>\n",
       "      <th>tags</th>\n",
       "      <th>title</th>\n",
       "    </tr>\n",
       "  </thead>\n",
       "  <tbody>\n",
       "    <tr>\n",
       "      <th>0</th>\n",
       "      <td>AsrIran</td>\n",
       "      <td>مدیرعامل سابق استقلال از عضویت در هیات مدیره ا...</td>\n",
       "      <td>صفحه نخست » ورزشی</td>\n",
       "      <td></td>\n",
       "      <td></td>\n",
       "      <td>{'استقلال': '/fa/tag/1/استقلال', 'افتخاری': '/...</td>\n",
       "      <td>افتخاری قید ماندن در هیات مدیره استقلال را هم زد</td>\n",
       "    </tr>\n",
       "    <tr>\n",
       "      <th>1</th>\n",
       "      <td>AsrIran</td>\n",
       "      <td>دادستان انتظامی مالیاتی سازمان امور مالیاتی گف...</td>\n",
       "      <td>صفحه نخست » اجتماعی</td>\n",
       "      <td></td>\n",
       "      <td></td>\n",
       "      <td>{'مالیات': '/fa/tag/1/مالیات', 'دادستان': '/fa...</td>\n",
       "      <td>دادستان انتظامی مالیاتی سازمان مالیات: آخرین ا...</td>\n",
       "    </tr>\n",
       "  </tbody>\n",
       "</table>\n",
       "</div>"
      ],
      "text/plain": [
       "  NewsAgency                                               body  \\\n",
       "0    AsrIran  مدیرعامل سابق استقلال از عضویت در هیات مدیره ا...   \n",
       "1    AsrIran  دادستان انتظامی مالیاتی سازمان امور مالیاتی گف...   \n",
       "\n",
       "              newsPath rutitr subtitle  \\\n",
       "0    صفحه نخست » ورزشی                   \n",
       "1  صفحه نخست » اجتماعی                   \n",
       "\n",
       "                                                tags  \\\n",
       "0  {'استقلال': '/fa/tag/1/استقلال', 'افتخاری': '/...   \n",
       "1  {'مالیات': '/fa/tag/1/مالیات', 'دادستان': '/fa...   \n",
       "\n",
       "                                               title  \n",
       "0   افتخاری قید ماندن در هیات مدیره استقلال را هم زد  \n",
       "1  دادستان انتظامی مالیاتی سازمان مالیات: آخرین ا...  "
      ]
     },
     "execution_count": 12,
     "metadata": {},
     "output_type": "execute_result"
    }
   ],
   "source": [
    "news = news.drop(['newsPathLinks'], axis=1)\n",
    "news.head(2)"
   ]
  },
  {
   "cell_type": "code",
   "execution_count": 13,
   "metadata": {},
   "outputs": [
    {
     "data": {
      "text/html": [
       "<div>\n",
       "<style scoped>\n",
       "    .dataframe tbody tr th:only-of-type {\n",
       "        vertical-align: middle;\n",
       "    }\n",
       "\n",
       "    .dataframe tbody tr th {\n",
       "        vertical-align: top;\n",
       "    }\n",
       "\n",
       "    .dataframe thead th {\n",
       "        text-align: right;\n",
       "    }\n",
       "</style>\n",
       "<table border=\"1\" class=\"dataframe\">\n",
       "  <thead>\n",
       "    <tr style=\"text-align: right;\">\n",
       "      <th></th>\n",
       "      <th>NewsAgency</th>\n",
       "      <th>body</th>\n",
       "      <th>newsPath</th>\n",
       "      <th>rutitr</th>\n",
       "      <th>subtitle</th>\n",
       "      <th>tags</th>\n",
       "      <th>title</th>\n",
       "    </tr>\n",
       "  </thead>\n",
       "  <tbody>\n",
       "    <tr>\n",
       "      <th>0</th>\n",
       "      <td>AsrIran</td>\n",
       "      <td>مدیرعامل سابق استقلال از عضویت در هیات مدیره ا...</td>\n",
       "      <td>ورزشی</td>\n",
       "      <td></td>\n",
       "      <td></td>\n",
       "      <td>{'استقلال': '/fa/tag/1/استقلال', 'افتخاری': '/...</td>\n",
       "      <td>افتخاری قید ماندن در هیات مدیره استقلال را هم زد</td>\n",
       "    </tr>\n",
       "    <tr>\n",
       "      <th>1</th>\n",
       "      <td>AsrIran</td>\n",
       "      <td>دادستان انتظامی مالیاتی سازمان امور مالیاتی گف...</td>\n",
       "      <td>اجتماعی</td>\n",
       "      <td></td>\n",
       "      <td></td>\n",
       "      <td>{'مالیات': '/fa/tag/1/مالیات', 'دادستان': '/fa...</td>\n",
       "      <td>دادستان انتظامی مالیاتی سازمان مالیات: آخرین ا...</td>\n",
       "    </tr>\n",
       "    <tr>\n",
       "      <th>2</th>\n",
       "      <td>AsrIran</td>\n",
       "      <td>قیمت سبد نفتی اوپک دیروز به روند کاهشی خود ادا...</td>\n",
       "      <td>اقتصادی</td>\n",
       "      <td></td>\n",
       "      <td></td>\n",
       "      <td>{'اوپک': '/fa/tag/1/اوپک', 'نفت': '/fa/tag/1/ن...</td>\n",
       "      <td>قیمت سبد نفتی اوپک یک گام دیگر عقب نشست/ 70 دل...</td>\n",
       "    </tr>\n",
       "  </tbody>\n",
       "</table>\n",
       "</div>"
      ],
      "text/plain": [
       "  NewsAgency                                               body newsPath  \\\n",
       "0    AsrIran  مدیرعامل سابق استقلال از عضویت در هیات مدیره ا...    ورزشی   \n",
       "1    AsrIran  دادستان انتظامی مالیاتی سازمان امور مالیاتی گف...  اجتماعی   \n",
       "2    AsrIran  قیمت سبد نفتی اوپک دیروز به روند کاهشی خود ادا...  اقتصادی   \n",
       "\n",
       "  rutitr subtitle                                               tags  \\\n",
       "0                  {'استقلال': '/fa/tag/1/استقلال', 'افتخاری': '/...   \n",
       "1                  {'مالیات': '/fa/tag/1/مالیات', 'دادستان': '/fa...   \n",
       "2                  {'اوپک': '/fa/tag/1/اوپک', 'نفت': '/fa/tag/1/ن...   \n",
       "\n",
       "                                               title  \n",
       "0   افتخاری قید ماندن در هیات مدیره استقلال را هم زد  \n",
       "1  دادستان انتظامی مالیاتی سازمان مالیات: آخرین ا...  \n",
       "2  قیمت سبد نفتی اوپک یک گام دیگر عقب نشست/ 70 دل...  "
      ]
     },
     "execution_count": 13,
     "metadata": {},
     "output_type": "execute_result"
    }
   ],
   "source": [
    "news.loc[:,'newsPath'] = list(x.split(' » ')[1] for x in news.newsPath)\n",
    "news.head(3)"
   ]
  },
  {
   "cell_type": "markdown",
   "metadata": {},
   "source": [
    "### NewsAgency"
   ]
  },
  {
   "cell_type": "code",
   "execution_count": 14,
   "metadata": {},
   "outputs": [
    {
     "data": {
      "text/html": [
       "<div>\n",
       "<style scoped>\n",
       "    .dataframe tbody tr th:only-of-type {\n",
       "        vertical-align: middle;\n",
       "    }\n",
       "\n",
       "    .dataframe tbody tr th {\n",
       "        vertical-align: top;\n",
       "    }\n",
       "\n",
       "    .dataframe thead th {\n",
       "        text-align: right;\n",
       "    }\n",
       "</style>\n",
       "<table border=\"1\" class=\"dataframe\">\n",
       "  <thead>\n",
       "    <tr style=\"text-align: right;\">\n",
       "      <th></th>\n",
       "      <th>0</th>\n",
       "    </tr>\n",
       "  </thead>\n",
       "  <tbody>\n",
       "    <tr>\n",
       "      <th>0</th>\n",
       "      <td>AsrIran</td>\n",
       "    </tr>\n",
       "  </tbody>\n",
       "</table>\n",
       "</div>"
      ],
      "text/plain": [
       "         0\n",
       "0  AsrIran"
      ]
     },
     "execution_count": 14,
     "metadata": {},
     "output_type": "execute_result"
    }
   ],
   "source": [
    "news_agencies = list(news.NewsAgency.unique())\n",
    "pd.DataFrame([news_agencies])"
   ]
  },
  {
   "cell_type": "markdown",
   "metadata": {},
   "source": [
    "### tags"
   ]
  },
  {
   "cell_type": "code",
   "execution_count": 15,
   "metadata": {},
   "outputs": [
    {
     "name": "stdout",
     "output_type": "stream",
     "text": [
      "not processed tags_dict {'استقلال': '/fa/tag/1/استقلال', 'افتخاری': '/fa/tag/1/افتخاری'}\n",
      "processesd tags_dict ['افتخاری', 'استقلال']\n"
     ]
    }
   ],
   "source": [
    "def tag_extractor(tags_dict):\n",
    "    \"\"\"\n",
    "    gets a tags dictionary and finds unique tags in collection of values and keys\n",
    "    \n",
    "    ::params tags_dict : \n",
    "    \"\"\"\n",
    "    keys = list(set(tags_dict.keys()))\n",
    "    values = { v.split('/')[-1] for v in set(tags_dict.values())}\n",
    "    [values.add(i) for i in keys]\n",
    "    return list(values)\n",
    "\n",
    "print('not processed tags_dict',news.tags[0])\n",
    "print('processesd tags_dict',tag_extractor(news.tags[0]))"
   ]
  },
  {
   "cell_type": "markdown",
   "metadata": {},
   "source": [
    "Now we replace `tags` column with extract values from `tag_extractor` function."
   ]
  },
  {
   "cell_type": "code",
   "execution_count": 16,
   "metadata": {},
   "outputs": [],
   "source": [
    "news.loc[:, 'tags'] = [tag_extractor(tag) for tag in news.tags]"
   ]
  },
  {
   "cell_type": "code",
   "execution_count": 17,
   "metadata": {},
   "outputs": [
    {
     "data": {
      "text/html": [
       "<div>\n",
       "<style scoped>\n",
       "    .dataframe tbody tr th:only-of-type {\n",
       "        vertical-align: middle;\n",
       "    }\n",
       "\n",
       "    .dataframe tbody tr th {\n",
       "        vertical-align: top;\n",
       "    }\n",
       "\n",
       "    .dataframe thead th {\n",
       "        text-align: right;\n",
       "    }\n",
       "</style>\n",
       "<table border=\"1\" class=\"dataframe\">\n",
       "  <thead>\n",
       "    <tr style=\"text-align: right;\">\n",
       "      <th></th>\n",
       "      <th>NewsAgency</th>\n",
       "      <th>body</th>\n",
       "      <th>newsPath</th>\n",
       "      <th>rutitr</th>\n",
       "      <th>subtitle</th>\n",
       "      <th>tags</th>\n",
       "      <th>title</th>\n",
       "    </tr>\n",
       "  </thead>\n",
       "  <tbody>\n",
       "    <tr>\n",
       "      <th>0</th>\n",
       "      <td>AsrIran</td>\n",
       "      <td>مدیرعامل سابق استقلال از عضویت در هیات مدیره ا...</td>\n",
       "      <td>ورزشی</td>\n",
       "      <td></td>\n",
       "      <td></td>\n",
       "      <td>[افتخاری, استقلال]</td>\n",
       "      <td>افتخاری قید ماندن در هیات مدیره استقلال را هم زد</td>\n",
       "    </tr>\n",
       "    <tr>\n",
       "      <th>1</th>\n",
       "      <td>AsrIran</td>\n",
       "      <td>دادستان انتظامی مالیاتی سازمان امور مالیاتی گف...</td>\n",
       "      <td>اجتماعی</td>\n",
       "      <td></td>\n",
       "      <td></td>\n",
       "      <td>[دادستان, مالیات]</td>\n",
       "      <td>دادستان انتظامی مالیاتی سازمان مالیات: آخرین ا...</td>\n",
       "    </tr>\n",
       "    <tr>\n",
       "      <th>2</th>\n",
       "      <td>AsrIran</td>\n",
       "      <td>قیمت سبد نفتی اوپک دیروز به روند کاهشی خود ادا...</td>\n",
       "      <td>اقتصادی</td>\n",
       "      <td></td>\n",
       "      <td></td>\n",
       "      <td>[نفت, اوپک]</td>\n",
       "      <td>قیمت سبد نفتی اوپک یک گام دیگر عقب نشست/ 70 دل...</td>\n",
       "    </tr>\n",
       "    <tr>\n",
       "      <th>3</th>\n",
       "      <td>AsrIran</td>\n",
       "      <td>رئیس فراکسیون فرهنگیان مجلس خطاب به وزیر آموزش...</td>\n",
       "      <td>اجتماعی</td>\n",
       "      <td></td>\n",
       "      <td></td>\n",
       "      <td>[آموزش و پرورش, فرهنگیان]</td>\n",
       "      <td>حاجی‌بابایی به بطحایی:آقای وزیر در اطلاع‌رسانی...</td>\n",
       "    </tr>\n",
       "    <tr>\n",
       "      <th>4</th>\n",
       "      <td>AsrIran</td>\n",
       "      <td>رئیس صندوق بین&amp;zwnj;المللی پول در آستانه نشست ...</td>\n",
       "      <td>بین الملل</td>\n",
       "      <td></td>\n",
       "      <td></td>\n",
       "      <td>[امریکا, صندوق بین المللی پول]</td>\n",
       "      <td>رئیس صندوق بین‌المللی پول: آمریکا از جنگ تعرفه...</td>\n",
       "    </tr>\n",
       "  </tbody>\n",
       "</table>\n",
       "</div>"
      ],
      "text/plain": [
       "  NewsAgency                                               body   newsPath  \\\n",
       "0    AsrIran  مدیرعامل سابق استقلال از عضویت در هیات مدیره ا...      ورزشی   \n",
       "1    AsrIran  دادستان انتظامی مالیاتی سازمان امور مالیاتی گف...    اجتماعی   \n",
       "2    AsrIran  قیمت سبد نفتی اوپک دیروز به روند کاهشی خود ادا...    اقتصادی   \n",
       "3    AsrIran  رئیس فراکسیون فرهنگیان مجلس خطاب به وزیر آموزش...    اجتماعی   \n",
       "4    AsrIran  رئیس صندوق بین&zwnj;المللی پول در آستانه نشست ...  بین الملل   \n",
       "\n",
       "  rutitr subtitle                            tags  \\\n",
       "0                              [افتخاری, استقلال]   \n",
       "1                               [دادستان, مالیات]   \n",
       "2                                     [نفت, اوپک]   \n",
       "3                       [آموزش و پرورش, فرهنگیان]   \n",
       "4                  [امریکا, صندوق بین المللی پول]   \n",
       "\n",
       "                                               title  \n",
       "0   افتخاری قید ماندن در هیات مدیره استقلال را هم زد  \n",
       "1  دادستان انتظامی مالیاتی سازمان مالیات: آخرین ا...  \n",
       "2  قیمت سبد نفتی اوپک یک گام دیگر عقب نشست/ 70 دل...  \n",
       "3  حاجی‌بابایی به بطحایی:آقای وزیر در اطلاع‌رسانی...  \n",
       "4  رئیس صندوق بین‌المللی پول: آمریکا از جنگ تعرفه...  "
      ]
     },
     "execution_count": 17,
     "metadata": {},
     "output_type": "execute_result"
    }
   ],
   "source": [
    "news.head(5)"
   ]
  },
  {
   "cell_type": "markdown",
   "metadata": {},
   "source": [
    "<font color='yellow'>Note:</font> If you look at row 0 and row 10, you can see there is many noise in this dataset. We have two different tags for same news."
   ]
  },
  {
   "cell_type": "markdown",
   "metadata": {},
   "source": [
    "## Normalizing"
   ]
  },
  {
   "cell_type": "code",
   "execution_count": 18,
   "metadata": {},
   "outputs": [],
   "source": [
    "normalizer = Normalizer()\n",
    "news['body'] = news['body'].apply(normalizer.normalize)\n",
    "news['rutitr'] = news['rutitr'].apply(normalizer.normalize)\n",
    "news['subtitle'] = news['subtitle'].apply(normalizer.normalize)\n",
    "news['title'] = news['title'].apply(normalizer.normalize)"
   ]
  },
  {
   "cell_type": "markdown",
   "metadata": {},
   "source": [
    "## Tokenizing"
   ]
  },
  {
   "cell_type": "code",
   "execution_count": 19,
   "metadata": {},
   "outputs": [],
   "source": [
    "def tokenize(phrase):\n",
    "    sentences = sent_tokenize(phrase)\n",
    "    if len(sentences) > 1:\n",
    "        words = reduce(np.append, [word_tokenize(sentence) for sentence in sentences])\n",
    "    elif len(sentences) == 1:\n",
    "        words = word_tokenize(sentences[0])\n",
    "    else:\n",
    "        words = None\n",
    "    return words"
   ]
  },
  {
   "cell_type": "code",
   "execution_count": 20,
   "metadata": {},
   "outputs": [],
   "source": [
    "news['body'] = news['body'].apply(tokenize)\n",
    "news['rutitr'] = news['rutitr'].apply(tokenize)\n",
    "news['subtitle'] = news['subtitle'].apply(tokenize)\n",
    "news['title'] = news['title'].apply(tokenize)"
   ]
  },
  {
   "cell_type": "markdown",
   "metadata": {},
   "source": [
    "## Stemming"
   ]
  },
  {
   "cell_type": "code",
   "execution_count": 21,
   "metadata": {},
   "outputs": [],
   "source": [
    "stemmer = Stemmer()\n",
    "stem = lambda s: [stemmer.stem(w) for w in s] if s is not None else None\n",
    "news['body'] = news['body'].apply(stem)\n",
    "news['rutitr'] = news['rutitr'].apply(stem)\n",
    "news['subtitle'] = news['subtitle'].apply(stem)\n",
    "news['title'] = news['title'].apply(stem)"
   ]
  },
  {
   "cell_type": "markdown",
   "metadata": {},
   "source": [
    "## Lemmatizing"
   ]
  },
  {
   "cell_type": "code",
   "execution_count": 22,
   "metadata": {},
   "outputs": [],
   "source": [
    "lemmatizer = Lemmatizer()\n",
    "lemmatize = lambda s: [lemmatizer.lemmatize(w) for w in s] if s is not None else None\n",
    "news['body'] = news['body'].apply(lemmatize)\n",
    "news['rutitr'] = news['rutitr'].apply(lemmatize)\n",
    "news['subtitle'] = news['subtitle'].apply(lemmatize)\n",
    "news['title'] = news['title'].apply(lemmatize)"
   ]
  },
  {
   "cell_type": "code",
   "execution_count": 23,
   "metadata": {},
   "outputs": [
    {
     "data": {
      "text/html": [
       "<div>\n",
       "<style scoped>\n",
       "    .dataframe tbody tr th:only-of-type {\n",
       "        vertical-align: middle;\n",
       "    }\n",
       "\n",
       "    .dataframe tbody tr th {\n",
       "        vertical-align: top;\n",
       "    }\n",
       "\n",
       "    .dataframe thead th {\n",
       "        text-align: right;\n",
       "    }\n",
       "</style>\n",
       "<table border=\"1\" class=\"dataframe\">\n",
       "  <thead>\n",
       "    <tr style=\"text-align: right;\">\n",
       "      <th></th>\n",
       "      <th>NewsAgency</th>\n",
       "      <th>body</th>\n",
       "      <th>newsPath</th>\n",
       "      <th>rutitr</th>\n",
       "      <th>subtitle</th>\n",
       "      <th>tags</th>\n",
       "      <th>title</th>\n",
       "    </tr>\n",
       "  </thead>\n",
       "  <tbody>\n",
       "    <tr>\n",
       "      <th>0</th>\n",
       "      <td>AsrIran</td>\n",
       "      <td>[مدیرعامل, سابق, استقلال, از, عضو, در, ه, مدیر...</td>\n",
       "      <td>ورزشی</td>\n",
       "      <td>None</td>\n",
       "      <td>None</td>\n",
       "      <td>[افتخاری, استقلال]</td>\n",
       "      <td>[افتخار, قید, ماندن, در, ه, مدیره, استقلال, را...</td>\n",
       "    </tr>\n",
       "    <tr>\n",
       "      <th>1</th>\n",
       "      <td>AsrIran</td>\n",
       "      <td>[دادس, انتظام, مالیات, ساز, امور, مالیات, گف, ...</td>\n",
       "      <td>اجتماعی</td>\n",
       "      <td>None</td>\n",
       "      <td>None</td>\n",
       "      <td>[دادستان, مالیات]</td>\n",
       "      <td>[دادس, انتظام, مالیات, ساز, مال, :, آخرین, اخط...</td>\n",
       "    </tr>\n",
       "    <tr>\n",
       "      <th>2</th>\n",
       "      <td>AsrIran</td>\n",
       "      <td>[قیم, سبد, نفت, اوپک, دیروز, به, روند, کاهش, خ...</td>\n",
       "      <td>اقتصادی</td>\n",
       "      <td>None</td>\n",
       "      <td>None</td>\n",
       "      <td>[نفت, اوپک]</td>\n",
       "      <td>[قیم, سبد, نفت, اوپک, یک, گا, دیگر, عقب, نشست/...</td>\n",
       "    </tr>\n",
       "    <tr>\n",
       "      <th>3</th>\n",
       "      <td>AsrIran</td>\n",
       "      <td>[رئیس, فراکسیون, فرهنگ, مجلس, خطاب, به, وزیر, ...</td>\n",
       "      <td>اجتماعی</td>\n",
       "      <td>None</td>\n",
       "      <td>None</td>\n",
       "      <td>[آموزش و پرورش, فرهنگیان]</td>\n",
       "      <td>[حاجی‌بابا, به, بطحا, :, آقا, وزیر, در, اطلاع‌...</td>\n",
       "    </tr>\n",
       "    <tr>\n",
       "      <th>4</th>\n",
       "      <td>AsrIran</td>\n",
       "      <td>[رئیس, صندوق, بین&amp;zwnj;الملل, پول, در, آستانه,...</td>\n",
       "      <td>بین الملل</td>\n",
       "      <td>None</td>\n",
       "      <td>None</td>\n",
       "      <td>[امریکا, صندوق بین المللی پول]</td>\n",
       "      <td>[رئیس, صندوق, بین‌الملل, پول, :, آمریکا, از, ج...</td>\n",
       "    </tr>\n",
       "  </tbody>\n",
       "</table>\n",
       "</div>"
      ],
      "text/plain": [
       "  NewsAgency                                               body   newsPath  \\\n",
       "0    AsrIran  [مدیرعامل, سابق, استقلال, از, عضو, در, ه, مدیر...      ورزشی   \n",
       "1    AsrIran  [دادس, انتظام, مالیات, ساز, امور, مالیات, گف, ...    اجتماعی   \n",
       "2    AsrIran  [قیم, سبد, نفت, اوپک, دیروز, به, روند, کاهش, خ...    اقتصادی   \n",
       "3    AsrIran  [رئیس, فراکسیون, فرهنگ, مجلس, خطاب, به, وزیر, ...    اجتماعی   \n",
       "4    AsrIran  [رئیس, صندوق, بین&zwnj;الملل, پول, در, آستانه,...  بین الملل   \n",
       "\n",
       "  rutitr subtitle                            tags  \\\n",
       "0   None     None              [افتخاری, استقلال]   \n",
       "1   None     None               [دادستان, مالیات]   \n",
       "2   None     None                     [نفت, اوپک]   \n",
       "3   None     None       [آموزش و پرورش, فرهنگیان]   \n",
       "4   None     None  [امریکا, صندوق بین المللی پول]   \n",
       "\n",
       "                                               title  \n",
       "0  [افتخار, قید, ماندن, در, ه, مدیره, استقلال, را...  \n",
       "1  [دادس, انتظام, مالیات, ساز, مال, :, آخرین, اخط...  \n",
       "2  [قیم, سبد, نفت, اوپک, یک, گا, دیگر, عقب, نشست/...  \n",
       "3  [حاجی‌بابا, به, بطحا, :, آقا, وزیر, در, اطلاع‌...  \n",
       "4  [رئیس, صندوق, بین‌الملل, پول, :, آمریکا, از, ج...  "
      ]
     },
     "execution_count": 23,
     "metadata": {},
     "output_type": "execute_result"
    }
   ],
   "source": [
    "news.head(5)"
   ]
  },
  {
   "cell_type": "markdown",
   "metadata": {},
   "source": [
    "## Filter Words"
   ]
  },
  {
   "cell_type": "markdown",
   "metadata": {},
   "source": [
    "### Remove Stopwords\n",
    "For this step, we use stopwords from <a href='https://github.com/kharazi/persian-stopwords'>this repository</a>.\n",
    "\n",
    "There are some files of stopwords and we are using <a href='https://github.com/kharazi/persian-stopwords/blob/master/persian'>this</a>.\n",
    "\n",
    "```bash\n",
    "git clone https://github.com/kharazi/persian-stopwords.git\n",
    "```"
   ]
  },
  {
   "cell_type": "code",
   "execution_count": 24,
   "metadata": {},
   "outputs": [
    {
     "data": {
      "text/html": [
       "<div>\n",
       "<style scoped>\n",
       "    .dataframe tbody tr th:only-of-type {\n",
       "        vertical-align: middle;\n",
       "    }\n",
       "\n",
       "    .dataframe tbody tr th {\n",
       "        vertical-align: top;\n",
       "    }\n",
       "\n",
       "    .dataframe thead th {\n",
       "        text-align: right;\n",
       "    }\n",
       "</style>\n",
       "<table border=\"1\" class=\"dataframe\">\n",
       "  <thead>\n",
       "    <tr style=\"text-align: right;\">\n",
       "      <th></th>\n",
       "      <th>0</th>\n",
       "      <th>1</th>\n",
       "      <th>2</th>\n",
       "      <th>3</th>\n",
       "      <th>4</th>\n",
       "      <th>5</th>\n",
       "      <th>6</th>\n",
       "      <th>7</th>\n",
       "      <th>8</th>\n",
       "      <th>9</th>\n",
       "      <th>10</th>\n",
       "      <th>11</th>\n",
       "      <th>12</th>\n",
       "      <th>13</th>\n",
       "      <th>14</th>\n",
       "      <th>15</th>\n",
       "      <th>16</th>\n",
       "      <th>17</th>\n",
       "      <th>18</th>\n",
       "      <th>19</th>\n",
       "    </tr>\n",
       "  </thead>\n",
       "  <tbody>\n",
       "    <tr>\n",
       "      <th>0</th>\n",
       "      <td>اید</td>\n",
       "      <td>ایشان</td>\n",
       "      <td>ایم</td>\n",
       "      <td>این</td>\n",
       "      <td>این جوری</td>\n",
       "      <td>این قدر</td>\n",
       "      <td>این گونه</td>\n",
       "      <td>اینان</td>\n",
       "      <td>اینجا</td>\n",
       "      <td>اینجاست</td>\n",
       "      <td>ایند</td>\n",
       "      <td>اینطور</td>\n",
       "      <td>اینقدر</td>\n",
       "      <td>اینها</td>\n",
       "      <td>اینهاست</td>\n",
       "      <td>اینو</td>\n",
       "      <td>اینچنین</td>\n",
       "      <td>اینک</td>\n",
       "      <td>اینکه</td>\n",
       "      <td>اینگونه</td>\n",
       "    </tr>\n",
       "  </tbody>\n",
       "</table>\n",
       "</div>"
      ],
      "text/plain": [
       "    0      1    2    3         4        5         6      7      8        9   \\\n",
       "0  اید  ایشان  ایم  این  این جوری  این قدر  این گونه  اینان  اینجا  اینجاست   \n",
       "\n",
       "     10      11      12     13       14    15       16    17     18       19  \n",
       "0  ایند  اینطور  اینقدر  اینها  اینهاست  اینو  اینچنین  اینک  اینکه  اینگونه  "
      ]
     },
     "execution_count": 24,
     "metadata": {},
     "output_type": "execute_result"
    }
   ],
   "source": [
    "stopwords_root = 'persian-stopwords'\n",
    "\n",
    "with open(os.path.join(stopwords_root, 'persian'), encoding='utf-8') as stopwords_file:\n",
    "    stopwords = [re.sub(r'\\n','',word) for word in stopwords_file]\n",
    "pd.DataFrame([stopwords[150:170]])"
   ]
  },
  {
   "cell_type": "markdown",
   "metadata": {},
   "source": [
    "Now we remove all stopwords from our dataset."
   ]
  },
  {
   "cell_type": "code",
   "execution_count": 25,
   "metadata": {},
   "outputs": [
    {
     "name": "stdout",
     "output_type": "stream",
     "text": [
      "['افتخار', 'قید', 'ماندن', 'در', 'ه', 'مدیره', 'استقلال', 'را', 'ه', 'زد#زن']\n",
      "['افتخار', 'قید', 'ماندن', 'مدیره', 'استقلال', 'زد#زن']\n"
     ]
    }
   ],
   "source": [
    "def filter_words(words_list, stopwords=stopwords):\n",
    "    \"\"\"\n",
    "    Gets a list of words and remove stopwords from that list.\n",
    "    \n",
    "    :param words_list: a list of words to apply stopwords\n",
    "    :param stopwords: a list of stopwords to remove from words_list\n",
    "    \"\"\"\n",
    "    if words_list is None:\n",
    "        return None\n",
    "    filtered_words = [word for word in words_list if word not in stopwords]\n",
    "    return filtered_words\n",
    "\n",
    "s = news.title[0]\n",
    "print(s)\n",
    "s_filtered = filter_words(s, stopwords)\n",
    "print(s_filtered)"
   ]
  },
  {
   "cell_type": "code",
   "execution_count": 26,
   "metadata": {},
   "outputs": [],
   "source": [
    "news['body'] = news['body'].apply(filter_words)\n",
    "news['rutitr'] = news['rutitr'].apply(filter_words)\n",
    "news['subtitle'] = news['subtitle'].apply(filter_words)\n",
    "news['title'] = news['title'].apply(filter_words)"
   ]
  },
  {
   "cell_type": "code",
   "execution_count": 27,
   "metadata": {},
   "outputs": [
    {
     "name": "stdout",
     "output_type": "stream",
     "text": [
      "['افتخار', 'قید', 'ماندن', 'مدیره', 'استقلال', 'زد#زن']\n"
     ]
    },
    {
     "data": {
      "text/html": [
       "<div>\n",
       "<style scoped>\n",
       "    .dataframe tbody tr th:only-of-type {\n",
       "        vertical-align: middle;\n",
       "    }\n",
       "\n",
       "    .dataframe tbody tr th {\n",
       "        vertical-align: top;\n",
       "    }\n",
       "\n",
       "    .dataframe thead th {\n",
       "        text-align: right;\n",
       "    }\n",
       "</style>\n",
       "<table border=\"1\" class=\"dataframe\">\n",
       "  <thead>\n",
       "    <tr style=\"text-align: right;\">\n",
       "      <th></th>\n",
       "      <th>NewsAgency</th>\n",
       "      <th>body</th>\n",
       "      <th>newsPath</th>\n",
       "      <th>rutitr</th>\n",
       "      <th>subtitle</th>\n",
       "      <th>tags</th>\n",
       "      <th>title</th>\n",
       "    </tr>\n",
       "  </thead>\n",
       "  <tbody>\n",
       "    <tr>\n",
       "      <th>0</th>\n",
       "      <td>AsrIran</td>\n",
       "      <td>[مدیرعامل, استقلال, عضو, مدیره, باشگاه, کناره,...</td>\n",
       "      <td>ورزشی</td>\n",
       "      <td>None</td>\n",
       "      <td>None</td>\n",
       "      <td>[افتخاری, استقلال]</td>\n",
       "      <td>[افتخار, قید, ماندن, مدیره, استقلال, زد#زن]</td>\n",
       "    </tr>\n",
       "    <tr>\n",
       "      <th>1</th>\n",
       "      <td>AsrIran</td>\n",
       "      <td>[دادس, انتظام, مالیات, ساز, مالیات, گف, صور, ع...</td>\n",
       "      <td>اجتماعی</td>\n",
       "      <td>None</td>\n",
       "      <td>None</td>\n",
       "      <td>[دادستان, مالیات]</td>\n",
       "      <td>[دادس, انتظام, مالیات, ساز, مال, آخرین, اخطار,...</td>\n",
       "    </tr>\n",
       "    <tr>\n",
       "      <th>2</th>\n",
       "      <td>AsrIran</td>\n",
       "      <td>[قیم, سبد, نفت, اوپک, روند, کاهش, ادامه, سه, ش...</td>\n",
       "      <td>اقتصادی</td>\n",
       "      <td>None</td>\n",
       "      <td>None</td>\n",
       "      <td>[نفت, اوپک]</td>\n",
       "      <td>[قیم, سبد, نفت, اوپک, گا, نشست/, ۷۰, دلار, بشکه]</td>\n",
       "    </tr>\n",
       "  </tbody>\n",
       "</table>\n",
       "</div>"
      ],
      "text/plain": [
       "  NewsAgency                                               body newsPath  \\\n",
       "0    AsrIran  [مدیرعامل, استقلال, عضو, مدیره, باشگاه, کناره,...    ورزشی   \n",
       "1    AsrIran  [دادس, انتظام, مالیات, ساز, مالیات, گف, صور, ع...  اجتماعی   \n",
       "2    AsrIran  [قیم, سبد, نفت, اوپک, روند, کاهش, ادامه, سه, ش...  اقتصادی   \n",
       "\n",
       "  rutitr subtitle                tags  \\\n",
       "0   None     None  [افتخاری, استقلال]   \n",
       "1   None     None   [دادستان, مالیات]   \n",
       "2   None     None         [نفت, اوپک]   \n",
       "\n",
       "                                               title  \n",
       "0        [افتخار, قید, ماندن, مدیره, استقلال, زد#زن]  \n",
       "1  [دادس, انتظام, مالیات, ساز, مال, آخرین, اخطار,...  \n",
       "2   [قیم, سبد, نفت, اوپک, گا, نشست/, ۷۰, دلار, بشکه]  "
      ]
     },
     "execution_count": 27,
     "metadata": {},
     "output_type": "execute_result"
    }
   ],
   "source": [
    "print(news.title[0])\n",
    "news.head(3)"
   ]
  },
  {
   "cell_type": "markdown",
   "metadata": {},
   "source": [
    "### Remove ASCII\n",
    "There are a lot of ascii characters which we do not need them such as html tags."
   ]
  },
  {
   "cell_type": "code",
   "execution_count": 28,
   "metadata": {},
   "outputs": [],
   "source": [
    "def remove_ascii(word_list):\n",
    "    \"\"\"\n",
    "    Remove ascii characters from a list of words or a string\n",
    "    :params word_list: a list of string or a string\n",
    "    \"\"\"\n",
    "    \n",
    "    if type(word_list) is list:\n",
    "        return [re.sub(r'[\\x00-\\x7F]+',' ',w) for w in word_list]\n",
    "    if type(word_list) is str:\n",
    "        words = word_list.split()\n",
    "        return [re.sub(r'[\\x00-\\x7F]+',' ',w) for w in words]"
   ]
  },
  {
   "cell_type": "markdown",
   "metadata": {},
   "source": [
    "# Feature Engineering\n",
    "The inherent unstructured (no neatly formatted data columns!) and noisy nature of textual data makes it harder for machine learning methods to directly work on raw text data.\n",
    "\n",
    "##### Motivation\n",
    "The importance of feature engineering is even more important for unstructured, textual data because we need to convert free flowing text into some numeric representations which can then be understood by machine learning algorithms."
   ]
  },
  {
   "cell_type": "markdown",
   "metadata": {},
   "source": [
    "### Feature Engineering Strategies\n",
    "We try different methods and compare result using F1, precision and recall score gathered by result of different machine learning methods."
   ]
  },
  {
   "cell_type": "markdown",
   "metadata": {},
   "source": [
    "#### Import Libraries"
   ]
  },
  {
   "cell_type": "code",
   "execution_count": 29,
   "metadata": {},
   "outputs": [],
   "source": [
    "import numpy as np\n",
    "import matplotlib.pyplot as plt\n",
    "from sklearn import feature_extraction as fe\n",
    "\n",
    "%matplotlib inline"
   ]
  },
  {
   "cell_type": "markdown",
   "metadata": {},
   "source": [
    "#### Bag of Words Model\n",
    "First of all we should define **vector space** term. When we convert unstructured data to number such each dimension of a vector is one feature of space, we have a vector space.\n",
    "\n",
    "**Bag of words** model is one of simpleset vector space methods.<br>\n",
    "In bag of words model, each vector represent a document in corpus and each dimension is word in document and the value of corresponding dimension is the frequency of given word."
   ]
  },
  {
   "cell_type": "code",
   "execution_count": 34,
   "metadata": {},
   "outputs": [
    {
     "name": "stdout",
     "output_type": "stream",
     "text": [
      "969\n",
      "1000\n"
     ]
    }
   ],
   "source": [
    "print(len([w for w in news.body.values if w is not None]))\n",
    "print(len(body_train_))"
   ]
  },
  {
   "cell_type": "code",
   "execution_count": 33,
   "metadata": {},
   "outputs": [],
   "source": [
    "# convert a list of string items to a string item (detokenization)\n",
    "body_train = news.body.values\n",
    "# just check it out! I got a weird result!\n",
    "# body_train = [' '.join([w for w in s]) for s in body_train if s is not None]\n",
    "body_train_ = []\n",
    "for idx,s in enumerate(body_train):\n",
    "    string=''\n",
    "    if s is not None:\n",
    "        for w in s:\n",
    "            string+=' '+w\n",
    "        body_train_.append(string)\n",
    "    else:\n",
    "        body_train_.append(string)"
   ]
  },
  {
   "cell_type": "code",
   "execution_count": 35,
   "metadata": {},
   "outputs": [],
   "source": [
    "# Note: We just apply this method to \"body\", then after builing some models, we try other ones.\n",
    "def bag_of_words(train):\n",
    "    \"\"\"\n",
    "    calculate bag of word vector space of a list of strings\n",
    "    \n",
    "    :params train: train data as a list of strings\n",
    "    \"\"\"\n",
    "    cv = fe.text.CountVectorizer(ngram_range=(1, 4), min_df=0.005, vocabulary=None,\n",
    "                                lowercase=False, analyzer='word') # 4-gram model\n",
    "    bow_train = cv.fit_transform(train)\n",
    "    return bow_train, cv.get_feature_names()\n",
    "bowt,feature_names = bag_of_words(body_train_)"
   ]
  },
  {
   "cell_type": "code",
   "execution_count": 36,
   "metadata": {},
   "outputs": [
    {
     "data": {
      "text/html": [
       "<div>\n",
       "<style scoped>\n",
       "    .dataframe tbody tr th:only-of-type {\n",
       "        vertical-align: middle;\n",
       "    }\n",
       "\n",
       "    .dataframe tbody tr th {\n",
       "        vertical-align: top;\n",
       "    }\n",
       "\n",
       "    .dataframe thead th {\n",
       "        text-align: right;\n",
       "    }\n",
       "</style>\n",
       "<table border=\"1\" class=\"dataframe\">\n",
       "  <thead>\n",
       "    <tr style=\"text-align: right;\">\n",
       "      <th></th>\n",
       "      <th>FATF</th>\n",
       "      <th>ad_type</th>\n",
       "      <th>ad_type standardvideo</th>\n",
       "      <th>ad_type standardvideo max_ad_duration</th>\n",
       "      <th>ad_type standardvideo max_ad_duration ۶۰۰۰</th>\n",
       "      <th>ads</th>\n",
       "      <th>ads pre</th>\n",
       "      <th>ads pre roll</th>\n",
       "      <th>ads pre roll advert</th>\n",
       "      <th>advert</th>\n",
       "      <th>...</th>\n",
       "      <th>۹۲</th>\n",
       "      <th>۹۳</th>\n",
       "      <th>۹۴</th>\n",
       "      <th>۹۵</th>\n",
       "      <th>۹۵ درصد</th>\n",
       "      <th>۹۶</th>\n",
       "      <th>۹۷</th>\n",
       "      <th>۹۸</th>\n",
       "      <th>۹۹</th>\n",
       "      <th>۹۹ درصد</th>\n",
       "    </tr>\n",
       "  </thead>\n",
       "  <tbody>\n",
       "    <tr>\n",
       "      <th>0</th>\n",
       "      <td>0</td>\n",
       "      <td>0</td>\n",
       "      <td>0</td>\n",
       "      <td>0</td>\n",
       "      <td>0</td>\n",
       "      <td>0</td>\n",
       "      <td>0</td>\n",
       "      <td>0</td>\n",
       "      <td>0</td>\n",
       "      <td>0</td>\n",
       "      <td>...</td>\n",
       "      <td>0</td>\n",
       "      <td>0</td>\n",
       "      <td>0</td>\n",
       "      <td>0</td>\n",
       "      <td>0</td>\n",
       "      <td>0</td>\n",
       "      <td>0</td>\n",
       "      <td>0</td>\n",
       "      <td>0</td>\n",
       "      <td>0</td>\n",
       "    </tr>\n",
       "    <tr>\n",
       "      <th>1</th>\n",
       "      <td>0</td>\n",
       "      <td>0</td>\n",
       "      <td>0</td>\n",
       "      <td>0</td>\n",
       "      <td>0</td>\n",
       "      <td>0</td>\n",
       "      <td>0</td>\n",
       "      <td>0</td>\n",
       "      <td>0</td>\n",
       "      <td>0</td>\n",
       "      <td>...</td>\n",
       "      <td>0</td>\n",
       "      <td>0</td>\n",
       "      <td>0</td>\n",
       "      <td>0</td>\n",
       "      <td>0</td>\n",
       "      <td>0</td>\n",
       "      <td>0</td>\n",
       "      <td>0</td>\n",
       "      <td>0</td>\n",
       "      <td>0</td>\n",
       "    </tr>\n",
       "    <tr>\n",
       "      <th>2</th>\n",
       "      <td>0</td>\n",
       "      <td>0</td>\n",
       "      <td>0</td>\n",
       "      <td>0</td>\n",
       "      <td>0</td>\n",
       "      <td>0</td>\n",
       "      <td>0</td>\n",
       "      <td>0</td>\n",
       "      <td>0</td>\n",
       "      <td>0</td>\n",
       "      <td>...</td>\n",
       "      <td>0</td>\n",
       "      <td>0</td>\n",
       "      <td>0</td>\n",
       "      <td>0</td>\n",
       "      <td>0</td>\n",
       "      <td>0</td>\n",
       "      <td>0</td>\n",
       "      <td>0</td>\n",
       "      <td>0</td>\n",
       "      <td>0</td>\n",
       "    </tr>\n",
       "    <tr>\n",
       "      <th>3</th>\n",
       "      <td>0</td>\n",
       "      <td>0</td>\n",
       "      <td>0</td>\n",
       "      <td>0</td>\n",
       "      <td>0</td>\n",
       "      <td>0</td>\n",
       "      <td>0</td>\n",
       "      <td>0</td>\n",
       "      <td>0</td>\n",
       "      <td>0</td>\n",
       "      <td>...</td>\n",
       "      <td>0</td>\n",
       "      <td>0</td>\n",
       "      <td>0</td>\n",
       "      <td>0</td>\n",
       "      <td>0</td>\n",
       "      <td>0</td>\n",
       "      <td>2</td>\n",
       "      <td>0</td>\n",
       "      <td>0</td>\n",
       "      <td>0</td>\n",
       "    </tr>\n",
       "    <tr>\n",
       "      <th>4</th>\n",
       "      <td>0</td>\n",
       "      <td>0</td>\n",
       "      <td>0</td>\n",
       "      <td>0</td>\n",
       "      <td>0</td>\n",
       "      <td>0</td>\n",
       "      <td>0</td>\n",
       "      <td>0</td>\n",
       "      <td>0</td>\n",
       "      <td>0</td>\n",
       "      <td>...</td>\n",
       "      <td>0</td>\n",
       "      <td>0</td>\n",
       "      <td>0</td>\n",
       "      <td>0</td>\n",
       "      <td>0</td>\n",
       "      <td>0</td>\n",
       "      <td>0</td>\n",
       "      <td>0</td>\n",
       "      <td>0</td>\n",
       "      <td>0</td>\n",
       "    </tr>\n",
       "  </tbody>\n",
       "</table>\n",
       "<p>5 rows × 10865 columns</p>\n",
       "</div>"
      ],
      "text/plain": [
       "   FATF  ad_type  ad_type standardvideo  \\\n",
       "0     0        0                      0   \n",
       "1     0        0                      0   \n",
       "2     0        0                      0   \n",
       "3     0        0                      0   \n",
       "4     0        0                      0   \n",
       "\n",
       "   ad_type standardvideo max_ad_duration  \\\n",
       "0                                      0   \n",
       "1                                      0   \n",
       "2                                      0   \n",
       "3                                      0   \n",
       "4                                      0   \n",
       "\n",
       "   ad_type standardvideo max_ad_duration ۶۰۰۰  ads  ads pre  ads pre roll  \\\n",
       "0                                           0    0        0             0   \n",
       "1                                           0    0        0             0   \n",
       "2                                           0    0        0             0   \n",
       "3                                           0    0        0             0   \n",
       "4                                           0    0        0             0   \n",
       "\n",
       "   ads pre roll advert  advert   ...     ۹۲  ۹۳  ۹۴  ۹۵  ۹۵ درصد  ۹۶  ۹۷  ۹۸  \\\n",
       "0                    0       0   ...      0   0   0   0        0   0   0   0   \n",
       "1                    0       0   ...      0   0   0   0        0   0   0   0   \n",
       "2                    0       0   ...      0   0   0   0        0   0   0   0   \n",
       "3                    0       0   ...      0   0   0   0        0   0   2   0   \n",
       "4                    0       0   ...      0   0   0   0        0   0   0   0   \n",
       "\n",
       "   ۹۹  ۹۹ درصد  \n",
       "0   0        0  \n",
       "1   0        0  \n",
       "2   0        0  \n",
       "3   0        0  \n",
       "4   0        0  \n",
       "\n",
       "[5 rows x 10865 columns]"
      ]
     },
     "execution_count": 36,
     "metadata": {},
     "output_type": "execute_result"
    }
   ],
   "source": [
    "pd.DataFrame(bowt.todense(),columns=feature_names).head(5)"
   ]
  },
  {
   "cell_type": "markdown",
   "metadata": {},
   "source": [
    "##### Bag of Words Vector Space Dimensions\n"
   ]
  },
  {
   "cell_type": "code",
   "execution_count": 38,
   "metadata": {},
   "outputs": [
    {
     "name": "stdout",
     "output_type": "stream",
     "text": [
      "number of examples: 1000\n",
      "number of features: 10865\n"
     ]
    }
   ],
   "source": [
    "print('number of examples: {}'.format(bowt.shape[0]))\n",
    "print('number of features: {}'.format(bowt.shape[1]))"
   ]
  },
  {
   "cell_type": "markdown",
   "metadata": {},
   "source": [
    "OK let it go!"
   ]
  },
  {
   "cell_type": "markdown",
   "metadata": {},
   "source": [
    "#### Labels\n",
    "Now for training purpose, we should train our model using train data and corresponding labels.\n",
    "\n",
    "In this dataset, labels are `newsPath`."
   ]
  },
  {
   "cell_type": "markdown",
   "metadata": {},
   "source": [
    "To deal with multiclass labels, we use `onehotencoders` to encode classes into categorical values represted by numbers.\n",
    "Here we go..."
   ]
  },
  {
   "cell_type": "markdown",
   "metadata": {},
   "source": [
    "##### Import libraries"
   ]
  },
  {
   "cell_type": "code",
   "execution_count": 39,
   "metadata": {},
   "outputs": [],
   "source": [
    "from sklearn.preprocessing import LabelEncoder\n",
    "from sklearn.preprocessing import OneHotEncoderb"
   ]
  },
  {
   "cell_type": "code",
   "execution_count": 80,
   "metadata": {},
   "outputs": [
    {
     "name": "stderr",
     "output_type": "stream",
     "text": [
      "C:\\Program Files\\Anaconda3\\lib\\site-packages\\sklearn\\preprocessing\\_encoders.py:363: FutureWarning: The handling of integer data will change in version 0.22. Currently, the categories are determined based on the range [0, max(values)], while in the future they will be determined based on the unique values.\n",
      "If you want the future behaviour and silence this warning, you can specify \"categories='auto'\".\n",
      "In case you used a LabelEncoder before this OneHotEncoder to convert the categories to integers, then you can now use the OneHotEncoder directly.\n",
      "  warnings.warn(msg, FutureWarning)\n"
     ]
    },
    {
     "data": {
      "text/html": [
       "<div>\n",
       "<style scoped>\n",
       "    .dataframe tbody tr th:only-of-type {\n",
       "        vertical-align: middle;\n",
       "    }\n",
       "\n",
       "    .dataframe tbody tr th {\n",
       "        vertical-align: top;\n",
       "    }\n",
       "\n",
       "    .dataframe thead th {\n",
       "        text-align: right;\n",
       "    }\n",
       "</style>\n",
       "<table border=\"1\" class=\"dataframe\">\n",
       "  <thead>\n",
       "    <tr style=\"text-align: right;\">\n",
       "      <th></th>\n",
       "      <th>اقتصادی</th>\n",
       "      <th>سیاست خارجی</th>\n",
       "      <th>علمی</th>\n",
       "      <th>دانلود</th>\n",
       "      <th>ورزشی</th>\n",
       "      <th>سرگرمی</th>\n",
       "      <th>حوادث</th>\n",
       "      <th>داستان کوتاه</th>\n",
       "      <th>فرهنگی/هنری</th>\n",
       "      <th>سیاسی</th>\n",
       "      <th>اجتماعی</th>\n",
       "      <th>بین الملل</th>\n",
       "      <th>سلامت</th>\n",
       "      <th>عمومی</th>\n",
       "      <th>روانشناسی</th>\n",
       "      <th>فناوری و IT</th>\n",
       "      <th>خواندنی ها و دیدنی ها</th>\n",
       "    </tr>\n",
       "  </thead>\n",
       "  <tbody>\n",
       "    <tr>\n",
       "      <th>0</th>\n",
       "      <td>0.0</td>\n",
       "      <td>0.0</td>\n",
       "      <td>0.0</td>\n",
       "      <td>0.0</td>\n",
       "      <td>0.0</td>\n",
       "      <td>0.0</td>\n",
       "      <td>0.0</td>\n",
       "      <td>0.0</td>\n",
       "      <td>0.0</td>\n",
       "      <td>0.0</td>\n",
       "      <td>0.0</td>\n",
       "      <td>0.0</td>\n",
       "      <td>0.0</td>\n",
       "      <td>0.0</td>\n",
       "      <td>0.0</td>\n",
       "      <td>0.0</td>\n",
       "      <td>1.0</td>\n",
       "    </tr>\n",
       "    <tr>\n",
       "      <th>1</th>\n",
       "      <td>1.0</td>\n",
       "      <td>0.0</td>\n",
       "      <td>0.0</td>\n",
       "      <td>0.0</td>\n",
       "      <td>0.0</td>\n",
       "      <td>0.0</td>\n",
       "      <td>0.0</td>\n",
       "      <td>0.0</td>\n",
       "      <td>0.0</td>\n",
       "      <td>0.0</td>\n",
       "      <td>0.0</td>\n",
       "      <td>0.0</td>\n",
       "      <td>0.0</td>\n",
       "      <td>0.0</td>\n",
       "      <td>0.0</td>\n",
       "      <td>0.0</td>\n",
       "      <td>0.0</td>\n",
       "    </tr>\n",
       "    <tr>\n",
       "      <th>2</th>\n",
       "      <td>0.0</td>\n",
       "      <td>1.0</td>\n",
       "      <td>0.0</td>\n",
       "      <td>0.0</td>\n",
       "      <td>0.0</td>\n",
       "      <td>0.0</td>\n",
       "      <td>0.0</td>\n",
       "      <td>0.0</td>\n",
       "      <td>0.0</td>\n",
       "      <td>0.0</td>\n",
       "      <td>0.0</td>\n",
       "      <td>0.0</td>\n",
       "      <td>0.0</td>\n",
       "      <td>0.0</td>\n",
       "      <td>0.0</td>\n",
       "      <td>0.0</td>\n",
       "      <td>0.0</td>\n",
       "    </tr>\n",
       "    <tr>\n",
       "      <th>3</th>\n",
       "      <td>1.0</td>\n",
       "      <td>0.0</td>\n",
       "      <td>0.0</td>\n",
       "      <td>0.0</td>\n",
       "      <td>0.0</td>\n",
       "      <td>0.0</td>\n",
       "      <td>0.0</td>\n",
       "      <td>0.0</td>\n",
       "      <td>0.0</td>\n",
       "      <td>0.0</td>\n",
       "      <td>0.0</td>\n",
       "      <td>0.0</td>\n",
       "      <td>0.0</td>\n",
       "      <td>0.0</td>\n",
       "      <td>0.0</td>\n",
       "      <td>0.0</td>\n",
       "      <td>0.0</td>\n",
       "    </tr>\n",
       "    <tr>\n",
       "      <th>4</th>\n",
       "      <td>0.0</td>\n",
       "      <td>0.0</td>\n",
       "      <td>1.0</td>\n",
       "      <td>0.0</td>\n",
       "      <td>0.0</td>\n",
       "      <td>0.0</td>\n",
       "      <td>0.0</td>\n",
       "      <td>0.0</td>\n",
       "      <td>0.0</td>\n",
       "      <td>0.0</td>\n",
       "      <td>0.0</td>\n",
       "      <td>0.0</td>\n",
       "      <td>0.0</td>\n",
       "      <td>0.0</td>\n",
       "      <td>0.0</td>\n",
       "      <td>0.0</td>\n",
       "      <td>0.0</td>\n",
       "    </tr>\n",
       "  </tbody>\n",
       "</table>\n",
       "</div>"
      ],
      "text/plain": [
       "   اقتصادی  سیاست خارجی  علمی  دانلود  ورزشی  سرگرمی  حوادث  داستان کوتاه  \\\n",
       "0      0.0          0.0   0.0     0.0    0.0     0.0    0.0           0.0   \n",
       "1      1.0          0.0   0.0     0.0    0.0     0.0    0.0           0.0   \n",
       "2      0.0          1.0   0.0     0.0    0.0     0.0    0.0           0.0   \n",
       "3      1.0          0.0   0.0     0.0    0.0     0.0    0.0           0.0   \n",
       "4      0.0          0.0   1.0     0.0    0.0     0.0    0.0           0.0   \n",
       "\n",
       "   فرهنگی/هنری  سیاسی  اجتماعی  بین الملل  سلامت  عمومی  روانشناسی  \\\n",
       "0          0.0    0.0      0.0        0.0    0.0    0.0        0.0   \n",
       "1          0.0    0.0      0.0        0.0    0.0    0.0        0.0   \n",
       "2          0.0    0.0      0.0        0.0    0.0    0.0        0.0   \n",
       "3          0.0    0.0      0.0        0.0    0.0    0.0        0.0   \n",
       "4          0.0    0.0      0.0        0.0    0.0    0.0        0.0   \n",
       "\n",
       "   فناوری و IT  خواندنی ها و دیدنی ها  \n",
       "0          0.0                    1.0  \n",
       "1          0.0                    0.0  \n",
       "2          0.0                    0.0  \n",
       "3          0.0                    0.0  \n",
       "4          0.0                    0.0  "
      ]
     },
     "execution_count": 80,
     "metadata": {},
     "output_type": "execute_result"
    }
   ],
   "source": [
    "y = news['newsPath'].values\n",
    "\n",
    "def label_encoder(array):\n",
    "    \"\"\"\n",
    "    Return corresponding label encoded array\n",
    "    \"\"\"\n",
    "    array_label_encoder = LabelEncoder()\n",
    "    encoded = array_label_encoder.fit_transform(array)\n",
    "    return array_label_encoder,encoded\n",
    "    \n",
    "def onehot_encoder(label_encoded_array):\n",
    "    \"\"\"\n",
    "    Return onehot encoded version of a label encoded input array\n",
    "    \"\"\"\n",
    "    array_onehot_encoder = OneHotEncoder()\n",
    "    onehot_encoded_array = array_onehot_encoder.fit_transform(label_encoded_array)\n",
    "    return array_onehot_encoder, onehot_encoded_array\n",
    "\n",
    "\n",
    "pd.DataFrame(onehot_encoder(label_encoder(y)[1].reshape(-1,1))[1].todense(), columns=valid_tags).head()"
   ]
  },
  {
   "cell_type": "markdown",
   "metadata": {},
   "source": [
    "#### Split Dataset Into Trainset and Testset"
   ]
  },
  {
   "cell_type": "code",
   "execution_count": 66,
   "metadata": {},
   "outputs": [],
   "source": [
    "from sklearn.model_selection import train_test_split"
   ]
  },
  {
   "cell_type": "code",
   "execution_count": 91,
   "metadata": {},
   "outputs": [],
   "source": [
    "# for Naive Bayes we just need to label encode target labels.\n",
    "_, y_label_encoded = label_encoder(y)"
   ]
  },
  {
   "cell_type": "code",
   "execution_count": 93,
   "metadata": {
    "collapsed": true
   },
   "outputs": [
    {
     "data": {
      "text/plain": [
       "array([16,  0,  1,  0,  2,  1,  2,  0,  0,  1,  0,  0, 14, 16,  0,  1,  1,\n",
       "       16,  2,  2,  1, 16,  3,  0,  0,  0,  1,  0,  0,  1, 16,  0,  0,  0,\n",
       "        0,  3,  2, 16, 15,  1, 10,  2,  0, 16,  0, 11, 16, 16, 16, 16, 16,\n",
       "        1, 16, 11, 11,  0, 11, 16, 11,  2,  0,  2,  1, 11, 11,  2,  1,  1,\n",
       "       11, 11, 11, 11, 11,  1, 11,  1,  1, 11,  1, 11,  0,  2,  3,  0,  0,\n",
       "       11,  1, 16,  1, 15, 14,  1,  9,  1,  1,  1, 11, 11,  2,  1,  1,  4,\n",
       "       13,  4, 10, 16,  4,  0,  1,  3, 11,  0,  2,  4,  1,  4,  5, 11, 12,\n",
       "       11, 13, 16, 11,  4,  2,  2, 16,  7,  4,  1,  4, 15, 16, 11, 11, 16,\n",
       "       16,  4,  1, 13, 16, 16, 16,  0, 16,  4,  0,  2,  2, 11, 16, 16,  4,\n",
       "       16, 16, 16,  4,  2,  9,  4, 16, 11, 11,  4, 11,  0,  0, 16, 16,  2,\n",
       "        4,  1,  2,  2,  4, 10, 16,  0,  0, 16,  2, 10,  8,  0,  2,  1, 15,\n",
       "        1, 14,  2, 11, 14,  0,  9,  0,  2,  3, 11,  0, 14,  9, 11, 11, 11,\n",
       "        1,  0,  1, 13,  1, 16, 10, 10, 10,  1,  0,  0,  0,  2,  0,  1, 16,\n",
       "       16,  0, 16,  1,  3,  2, 16, 16,  2, 14,  0,  1, 16,  1, 10, 16, 16,\n",
       "       16,  0,  1, 16, 10, 11,  3, 16,  3, 14,  1,  0,  2,  0,  2,  3,  1,\n",
       "        0,  3,  1,  2, 16,  0, 16,  1,  0, 11, 16,  0,  1,  1,  2,  0,  0,\n",
       "       11,  0, 11,  1,  2,  0,  1, 14,  1,  0, 11,  3,  1,  0, 11,  3,  0,\n",
       "        0,  0,  0, 11,  1,  0,  0, 16, 11, 11, 11, 11,  2,  1,  1, 11, 11,\n",
       "        0,  1,  1, 11,  1,  1,  1,  0,  0,  0,  0, 11,  0, 16, 16, 11, 16,\n",
       "       11,  0,  0, 14,  1,  4,  1,  1,  4,  1, 16,  2, 16,  2,  4, 16, 16,\n",
       "        2,  4, 16,  4, 11, 16, 10,  4,  1, 10, 16,  2,  1, 11, 16,  4,  4,\n",
       "       11,  1,  2, 16,  6, 10,  4,  2,  4,  1,  1,  0, 12,  1,  2,  2,  1,\n",
       "        6,  4, 11,  0,  1,  0,  7,  4,  0,  0, 11,  4,  0,  4, 16, 16, 11,\n",
       "       16,  2, 16,  1,  4, 16,  3, 11, 16,  4, 10,  0,  4,  3, 10,  4,  4,\n",
       "       10, 16,  4,  0, 16,  1, 13, 16, 11,  4,  0, 13,  0,  0,  0,  2, 11,\n",
       "       11, 11, 11, 16,  2, 11,  2, 10, 11,  1,  1,  3, 15, 11, 10,  0, 11,\n",
       "       11,  3,  0, 11,  0,  9,  2, 11,  1,  2,  9,  0,  3,  0,  0,  0,  0,\n",
       "        2,  2,  2, 11, 16, 13, 11, 14,  2,  2, 16, 16,  1,  3, 11, 16,  3,\n",
       "       16, 16,  0, 16, 16, 16, 16, 16, 16,  0, 16, 16,  3, 16, 16,  0, 16,\n",
       "       15, 16, 16, 16, 16, 16, 16, 10,  0,  1, 16, 10, 10,  1,  2,  2, 10,\n",
       "       11,  1, 11,  1, 16,  2, 16, 16,  1, 16, 11,  1, 11, 14, 14,  0,  1,\n",
       "        2,  0,  0, 16,  2, 11,  1,  3,  1,  0, 10, 11,  1, 16,  2, 16,  0,\n",
       "       11,  0,  1, 11, 11,  1, 11,  2,  0,  2,  2,  1, 10, 10,  1, 11,  0,\n",
       "       16, 11, 11,  0,  1, 14, 11,  2, 14, 16,  1,  1,  0,  0, 11, 11,  2,\n",
       "        0,  0,  2,  2,  0,  9, 11,  0,  1,  0,  1,  0,  0, 16,  1,  0, 11,\n",
       "       13, 11, 11, 11,  0, 11,  0,  0,  1,  1,  0,  3, 16, 10,  2, 11, 11,\n",
       "        0, 14,  2,  0,  0, 16,  1, 11, 11,  4, 11,  2,  8,  4,  4,  4,  1,\n",
       "        0, 11,  4,  2, 11, 16,  0,  4,  2,  1,  6,  7,  0, 11,  4,  4, 16,\n",
       "        6,  2,  0,  0,  2,  4, 11,  0, 11, 11,  4,  4,  2,  4, 11,  4, 13,\n",
       "        4, 11, 16,  4,  1,  2,  0, 11,  2, 16,  0,  1,  9,  9, 11, 12, 16,\n",
       "       14, 16,  2,  2,  4,  0, 16,  1,  0,  1,  0, 11,  1,  0, 11,  0,  2,\n",
       "       13, 11,  2,  0,  0,  2, 13,  2, 16,  2,  1,  2, 16,  1,  2, 16, 11,\n",
       "        1,  0,  0,  2,  0, 16,  0, 16, 10, 16,  0,  0,  0, 11, 16,  2,  3,\n",
       "       16, 11,  3, 16, 11, 16,  0,  2,  0,  0,  2,  3,  0,  0,  0, 16,  3,\n",
       "       16,  0,  1,  3,  0,  0, 11, 16,  0,  0, 16, 16,  0,  0, 14,  3, 11,\n",
       "       11,  0, 14,  2, 14, 14, 14, 11,  0,  0, 11,  2, 11, 16,  4,  2,  1,\n",
       "       11, 11,  1,  2,  2, 11,  1,  0, 16, 11,  1, 11,  1, 14,  2, 11,  2,\n",
       "       11,  0, 11,  2,  2,  1,  3,  0,  0,  0, 11,  0,  2, 11, 11,  1,  4,\n",
       "        3,  1,  4, 11,  1,  0,  6,  4, 11,  1,  4, 11,  0,  4,  1,  0,  4,\n",
       "       16,  1,  5, 16,  2,  4,  4,  2,  2,  2,  0,  7, 10,  4, 11,  0,  2,\n",
       "        4, 11,  3,  4,  1,  2, 10,  0,  4,  4, 16,  0,  2,  2,  1,  0, 16,\n",
       "        0, 14,  4,  1,  4,  0,  4, 11,  4,  1, 16,  1,  2,  8,  1,  2, 13,\n",
       "       16,  0,  1, 16, 11, 15,  4,  0,  1,  1, 11,  0,  1,  2,  1,  0, 11,\n",
       "        8,  2,  0,  0,  0,  1,  0,  1,  9,  2, 11, 11,  1,  3, 12,  1,  0,\n",
       "       16, 12, 11,  2, 11, 11,  3,  0,  0, 13, 16,  2,  3,  0, 12, 14,  0,\n",
       "        0,  2,  1, 16,  1,  2,  2,  1,  1, 14,  1,  2, 14,  0, 16, 11, 16,\n",
       "       16, 11,  8, 16,  0, 14, 14,  2, 10,  9, 16,  2,  0,  3, 16, 11, 16,\n",
       "        1,  0,  1,  1,  0,  0,  1, 16,  1, 14,  1,  2,  1,  1,  1,  0, 11,\n",
       "        2,  0,  0,  0,  0, 10,  0,  0, 11,  1, 11,  1, 11,  1])"
      ]
     },
     "execution_count": 93,
     "metadata": {},
     "output_type": "execute_result"
    }
   ],
   "source": [
    "y_label_encoded"
   ]
  },
  {
   "cell_type": "code",
   "execution_count": 95,
   "metadata": {},
   "outputs": [
    {
     "name": "stdout",
     "output_type": "stream",
     "text": [
      "x #examples: 1000, x #features:10865\n",
      "x_train #examples: 900, x_train #features: 10865\n",
      "x_test #examples: 100, x_test #features: 10865\n",
      "y_train #examples: 900, y_train #features: 1\n",
      "y_test #examples: 100, y_test #features: 1\n"
     ]
    }
   ],
   "source": [
    "x_train,x_test,y_train,y_test = train_test_split(bowt , y_label_encoded.reshape(-1,1), train_size = 0.90, random_state=85)\n",
    "print('x #examples: {}, x #features:{}'.format(bowt.shape[0], bowt.shape[1]))\n",
    "print('x_train #examples: {}, x_train #features: {}'.format(x_train.shape[0], x_train.shape[1]))\n",
    "print('x_test #examples: {}, x_test #features: {}'.format(x_test.shape[0], x_test.shape[1]))\n",
    "print('y_train #examples: {}, y_train #features: {}'.format(y_train.shape[0], y_train.shape[1]))\n",
    "print('y_test #examples: {}, y_test #features: {}'.format(y_test.shape[0], y_test.shape[1]))\n",
    "\n",
    "x_train = x_train.todense()\n",
    "x_test = x_test.todense()"
   ]
  },
  {
   "cell_type": "markdown",
   "metadata": {},
   "source": [
    "# Model Selection"
   ]
  },
  {
   "cell_type": "code",
   "execution_count": 103,
   "metadata": {},
   "outputs": [],
   "source": [
    "from sklearn.metrics import confusion_matrix"
   ]
  },
  {
   "cell_type": "code",
   "execution_count": 105,
   "metadata": {},
   "outputs": [],
   "source": [
    "def accuracy_on_cm(confusion_matrix):\n",
    "    \"\"\"\n",
    "    Calculate accuracy on given confusion matrix\n",
    "    \"\"\"\n",
    "    t = np.trace(confusion_matrix)\n",
    "    f = np.sum(confusion_matrix) - t\n",
    "    ac = t/(t+f)\n",
    "    return (t,f,ac)"
   ]
  },
  {
   "cell_type": "markdown",
   "metadata": {},
   "source": [
    "## Naive Bayes"
   ]
  },
  {
   "cell_type": "code",
   "execution_count": 99,
   "metadata": {},
   "outputs": [],
   "source": [
    "from sklearn import naive_bayes as nb\n",
    "naive_bayes = nb.GaussianNB()\n",
    "naive_bayes = naive_bayes.fit(x_train, y_train.ravel())"
   ]
  },
  {
   "cell_type": "code",
   "execution_count": 101,
   "metadata": {},
   "outputs": [],
   "source": [
    "y_train_predict = naive_bayes.predict(x_train)"
   ]
  },
  {
   "cell_type": "code",
   "execution_count": 107,
   "metadata": {},
   "outputs": [
    {
     "name": "stdout",
     "output_type": "stream",
     "text": [
      "Train status = #838 True, #62 False, %93.11111111111111 Accuracy\n"
     ]
    }
   ],
   "source": [
    "cm_train = confusion_matrix(y_train,y_train_predict)\n",
    "t_train,f_train,acc_train = accuracy_on_cm(cm_train)\n",
    "print('Train status = #{} True, #{} False, %{} Accuracy'.format(t_train,f_train,acc_train*100))"
   ]
  },
  {
   "cell_type": "markdown",
   "metadata": {},
   "source": [
    "## Logistic Regression"
   ]
  },
  {
   "cell_type": "code",
   "execution_count": null,
   "metadata": {},
   "outputs": [],
   "source": []
  },
  {
   "cell_type": "markdown",
   "metadata": {},
   "source": [
    "## SVM"
   ]
  },
  {
   "cell_type": "code",
   "execution_count": null,
   "metadata": {},
   "outputs": [],
   "source": []
  },
  {
   "cell_type": "markdown",
   "metadata": {},
   "source": [
    "## Simple ANN"
   ]
  },
  {
   "cell_type": "code",
   "execution_count": null,
   "metadata": {},
   "outputs": [],
   "source": []
  },
  {
   "cell_type": "markdown",
   "metadata": {},
   "source": [
    "## CNN"
   ]
  },
  {
   "cell_type": "code",
   "execution_count": null,
   "metadata": {},
   "outputs": [],
   "source": []
  },
  {
   "cell_type": "markdown",
   "metadata": {},
   "source": [
    "## RNN"
   ]
  },
  {
   "cell_type": "code",
   "execution_count": null,
   "metadata": {},
   "outputs": [],
   "source": []
  },
  {
   "cell_type": "markdown",
   "metadata": {},
   "source": [
    "## CNN + RNN"
   ]
  },
  {
   "cell_type": "code",
   "execution_count": null,
   "metadata": {},
   "outputs": [],
   "source": []
  }
 ],
 "metadata": {
  "kernelspec": {
   "display_name": "Python 3",
   "language": "python",
   "name": "python3"
  },
  "language_info": {
   "codemirror_mode": {
    "name": "ipython",
    "version": 3
   },
   "file_extension": ".py",
   "mimetype": "text/x-python",
   "name": "python",
   "nbconvert_exporter": "python",
   "pygments_lexer": "ipython3",
   "version": "3.6.6"
  }
 },
 "nbformat": 4,
 "nbformat_minor": 2
}
