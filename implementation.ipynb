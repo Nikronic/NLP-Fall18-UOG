{
 "cells": [
  {
   "cell_type": "markdown",
   "metadata": {},
   "source": [
    "# Content\n",
    "* Importing Libraries\n",
    "* Constants\n",
    "* Preprocessing\n",
    "    * Normalizing\n",
    "    * Tokenizing\n",
    "    * Stemming\n",
    "    * Lemmatizing\n",
    "* Feature Engineering\n",
    "    * Bag of Words\n",
    "    * FastText Word2Vec\n",
    "* Model Selection\n",
    "\n",
    "# Importing Libraries"
   ]
  },
  {
   "cell_type": "code",
   "execution_count": 2,
   "metadata": {},
   "outputs": [],
   "source": [
    "from __future__ import unicode_literals\n",
    "\n",
    "import json\n",
    "import os\n",
    "import numpy as np\n",
    "import re\n",
    "import pandas as pd\n",
    "from functools import reduce\n",
    "from hazm import *\n",
    "from pprint import pprint"
   ]
  },
  {
   "cell_type": "markdown",
   "metadata": {},
   "source": [
    "# Constants"
   ]
  },
  {
   "cell_type": "code",
   "execution_count": 11,
   "metadata": {},
   "outputs": [],
   "source": [
    "# Data root path\n",
    "data_root = 'data'\n",
    "\n",
    "# Dataset dataframe column names\n",
    "keys = None\n",
    "\n",
    "# News headline tags\n",
    "valid_tags = None\n",
    "\n",
    "# News agencies\n",
    "news_agencies = None"
   ]
  },
  {
   "cell_type": "markdown",
   "metadata": {},
   "source": [
    "# Preprocessing"
   ]
  },
  {
   "cell_type": "markdown",
   "metadata": {},
   "source": [
    "### Import Dataset"
   ]
  },
  {
   "cell_type": "code",
   "execution_count": 12,
   "metadata": {},
   "outputs": [
    {
     "name": "stdout",
     "output_type": "stream",
     "text": [
      "Number of Datapoints: 1000\n"
     ]
    }
   ],
   "source": [
    "with open(os.path.join(data_root, 'out.jsonl'), encoding='utf-8') as json_data:\n",
    "    news = [json.loads(line) for line in json_data]\n",
    "    news = pd.DataFrame(news)\n",
    "print('Number of Datapoints: {}'.format(len(news)))"
   ]
  },
  {
   "cell_type": "code",
   "execution_count": 13,
   "metadata": {},
   "outputs": [
    {
     "data": {
      "text/html": [
       "<div>\n",
       "<style scoped>\n",
       "    .dataframe tbody tr th:only-of-type {\n",
       "        vertical-align: middle;\n",
       "    }\n",
       "\n",
       "    .dataframe tbody tr th {\n",
       "        vertical-align: top;\n",
       "    }\n",
       "\n",
       "    .dataframe thead th {\n",
       "        text-align: right;\n",
       "    }\n",
       "</style>\n",
       "<table border=\"1\" class=\"dataframe\">\n",
       "  <thead>\n",
       "    <tr style=\"text-align: right;\">\n",
       "      <th></th>\n",
       "      <th>0</th>\n",
       "      <th>1</th>\n",
       "      <th>2</th>\n",
       "      <th>3</th>\n",
       "      <th>4</th>\n",
       "      <th>5</th>\n",
       "      <th>6</th>\n",
       "      <th>7</th>\n",
       "      <th>8</th>\n",
       "      <th>9</th>\n",
       "      <th>10</th>\n",
       "      <th>11</th>\n",
       "      <th>12</th>\n",
       "    </tr>\n",
       "  </thead>\n",
       "  <tbody>\n",
       "    <tr>\n",
       "      <th>0</th>\n",
       "      <td>NewsAgency</td>\n",
       "      <td>_id</td>\n",
       "      <td>body</td>\n",
       "      <td>bodyHtml</td>\n",
       "      <td>date</td>\n",
       "      <td>newsCode</td>\n",
       "      <td>newsLink</td>\n",
       "      <td>newsPath</td>\n",
       "      <td>newsPathLinks</td>\n",
       "      <td>rutitr</td>\n",
       "      <td>subtitle</td>\n",
       "      <td>tags</td>\n",
       "      <td>title</td>\n",
       "    </tr>\n",
       "  </tbody>\n",
       "</table>\n",
       "</div>"
      ],
      "text/plain": [
       "           0    1     2         3     4         5         6         7   \\\n",
       "0  NewsAgency  _id  body  bodyHtml  date  newsCode  newsLink  newsPath   \n",
       "\n",
       "              8       9         10    11     12  \n",
       "0  newsPathLinks  rutitr  subtitle  tags  title  "
      ]
     },
     "execution_count": 13,
     "metadata": {},
     "output_type": "execute_result"
    }
   ],
   "source": [
    "keys = list(news.columns)\n",
    "pd.DataFrame([keys])"
   ]
  },
  {
   "cell_type": "markdown",
   "metadata": {},
   "source": [
    "Lets look at our data"
   ]
  },
  {
   "cell_type": "code",
   "execution_count": 14,
   "metadata": {},
   "outputs": [
    {
     "data": {
      "text/html": [
       "<div>\n",
       "<style scoped>\n",
       "    .dataframe tbody tr th:only-of-type {\n",
       "        vertical-align: middle;\n",
       "    }\n",
       "\n",
       "    .dataframe tbody tr th {\n",
       "        vertical-align: top;\n",
       "    }\n",
       "\n",
       "    .dataframe thead th {\n",
       "        text-align: right;\n",
       "    }\n",
       "</style>\n",
       "<table border=\"1\" class=\"dataframe\">\n",
       "  <thead>\n",
       "    <tr style=\"text-align: right;\">\n",
       "      <th></th>\n",
       "      <th>NewsAgency</th>\n",
       "      <th>_id</th>\n",
       "      <th>body</th>\n",
       "      <th>bodyHtml</th>\n",
       "      <th>date</th>\n",
       "      <th>newsCode</th>\n",
       "      <th>newsLink</th>\n",
       "      <th>newsPath</th>\n",
       "      <th>newsPathLinks</th>\n",
       "      <th>rutitr</th>\n",
       "      <th>subtitle</th>\n",
       "      <th>tags</th>\n",
       "      <th>title</th>\n",
       "    </tr>\n",
       "  </thead>\n",
       "  <tbody>\n",
       "    <tr>\n",
       "      <th>0</th>\n",
       "      <td>AsrIran</td>\n",
       "      <td>5b4f7279020eb20597f401b4</td>\n",
       "      <td>مدیرعامل سابق استقلال از عضویت در هیات مدیره ا...</td>\n",
       "      <td>&lt;img align=\"left\" class=\"news_corner_image\" s...</td>\n",
       "      <td>تاریخ انتشار:  ۲۱:۲۲ - ۲۷ تير ۱۳۹۷ - 18 July 2018</td>\n",
       "      <td>621662</td>\n",
       "      <td>http://www.asriran.com/fa/news/621662</td>\n",
       "      <td>صفحه نخست » ورزشی</td>\n",
       "      <td>{'صفحه نخست': '/fa/archive?service_id=1', 'ورز...</td>\n",
       "      <td></td>\n",
       "      <td></td>\n",
       "      <td>{'استقلال': '/fa/tag/1/استقلال', 'افتخاری': '/...</td>\n",
       "      <td>افتخاری قید ماندن در هیات مدیره استقلال را هم زد</td>\n",
       "    </tr>\n",
       "    <tr>\n",
       "      <th>1</th>\n",
       "      <td>AsrIran</td>\n",
       "      <td>5b4f7279020eb20597f401b5</td>\n",
       "      <td>دادستان انتظامی مالیاتی سازمان امور مالیاتی گف...</td>\n",
       "      <td>&lt;p&gt;&lt;br/&gt;دادستان انتظامی مالیاتی سازمان امور م...</td>\n",
       "      <td>تاریخ انتشار:  ۲۱:۱۱ - ۲۷ تير ۱۳۹۷ - 18 July 2018</td>\n",
       "      <td>621659</td>\n",
       "      <td>http://www.asriran.com/fa/news/621659</td>\n",
       "      <td>صفحه نخست » اجتماعی</td>\n",
       "      <td>{'صفحه نخست': '/fa/archive?service_id=1', 'اجت...</td>\n",
       "      <td></td>\n",
       "      <td></td>\n",
       "      <td>{'مالیات': '/fa/tag/1/مالیات', 'دادستان': '/fa...</td>\n",
       "      <td>دادستان انتظامی مالیاتی سازمان مالیات: آخرین ا...</td>\n",
       "    </tr>\n",
       "  </tbody>\n",
       "</table>\n",
       "</div>"
      ],
      "text/plain": [
       "  NewsAgency                       _id  \\\n",
       "0    AsrIran  5b4f7279020eb20597f401b4   \n",
       "1    AsrIran  5b4f7279020eb20597f401b5   \n",
       "\n",
       "                                                body  \\\n",
       "0  مدیرعامل سابق استقلال از عضویت در هیات مدیره ا...   \n",
       "1  دادستان انتظامی مالیاتی سازمان امور مالیاتی گف...   \n",
       "\n",
       "                                            bodyHtml  \\\n",
       "0   <img align=\"left\" class=\"news_corner_image\" s...   \n",
       "1   <p><br/>دادستان انتظامی مالیاتی سازمان امور م...   \n",
       "\n",
       "                                                date newsCode  \\\n",
       "0  تاریخ انتشار:  ۲۱:۲۲ - ۲۷ تير ۱۳۹۷ - 18 July 2018   621662   \n",
       "1  تاریخ انتشار:  ۲۱:۱۱ - ۲۷ تير ۱۳۹۷ - 18 July 2018   621659   \n",
       "\n",
       "                                newsLink             newsPath  \\\n",
       "0  http://www.asriran.com/fa/news/621662    صفحه نخست » ورزشی   \n",
       "1  http://www.asriran.com/fa/news/621659  صفحه نخست » اجتماعی   \n",
       "\n",
       "                                       newsPathLinks rutitr subtitle  \\\n",
       "0  {'صفحه نخست': '/fa/archive?service_id=1', 'ورز...                   \n",
       "1  {'صفحه نخست': '/fa/archive?service_id=1', 'اجت...                   \n",
       "\n",
       "                                                tags  \\\n",
       "0  {'استقلال': '/fa/tag/1/استقلال', 'افتخاری': '/...   \n",
       "1  {'مالیات': '/fa/tag/1/مالیات', 'دادستان': '/fa...   \n",
       "\n",
       "                                               title  \n",
       "0   افتخاری قید ماندن در هیات مدیره استقلال را هم زد  \n",
       "1  دادستان انتظامی مالیاتی سازمان مالیات: آخرین ا...  "
      ]
     },
     "execution_count": 14,
     "metadata": {},
     "output_type": "execute_result"
    }
   ],
   "source": [
    "news.head(2)"
   ]
  },
  {
   "cell_type": "markdown",
   "metadata": {},
   "source": [
    "### subtitle & rutitr"
   ]
  },
  {
   "cell_type": "code",
   "execution_count": 15,
   "metadata": {},
   "outputs": [
    {
     "name": "stdout",
     "output_type": "stream",
     "text": [
      "145    علیرضا جهانبخش ستاره فوتبال ایران و یکی از موف...\n",
      "818    البته در حال حاضر برنامه فتوشاپ اکسپرس برروی ت...\n",
      "245                                                     \n",
      "375                                                     \n",
      "971                                                     \n",
      "Name: subtitle, dtype: object\n",
      "706    \n",
      "Name: rutitr, dtype: object\n"
     ]
    }
   ],
   "source": [
    "print(news.subtitle.sample(5))\n",
    "print(news.rutitr.sample())"
   ]
  },
  {
   "cell_type": "markdown",
   "metadata": {},
   "source": [
    "As we can see, there might not exist any 'subtitle' or 'rutitr', so we drop them if they do not have valuable features."
   ]
  },
  {
   "cell_type": "code",
   "execution_count": 16,
   "metadata": {},
   "outputs": [
    {
     "name": "stdout",
     "output_type": "stream",
     "text": [
      "Not null 'subtitle'  569\n",
      "Not null 'rutitr'  50\n"
     ]
    }
   ],
   "source": [
    "print(\"Not null 'subtitle' \",len([i for i in news.subtitle if len(i) != 0]))\n",
    "print(\"Not null 'rutitr' \",len([i for i in news.rutitr if len(i) != 0]))"
   ]
  },
  {
   "cell_type": "markdown",
   "metadata": {},
   "source": [
    "So based on information we got here, we know that these columns can help us, so we consider them."
   ]
  },
  {
   "cell_type": "markdown",
   "metadata": {},
   "source": [
    "### Drop Useless Columns"
   ]
  },
  {
   "cell_type": "markdown",
   "metadata": {},
   "source": [
    "But it is clear for us, `date`,`newsCode`, `newsLink`,`bodyHtml` and `_id` are useless features. So we remove them from our dataset.\n"
   ]
  },
  {
   "cell_type": "code",
   "execution_count": 17,
   "metadata": {},
   "outputs": [],
   "source": [
    "news = news.drop(['_id','date','newsCode','newsLink','bodyHtml'], axis=1)"
   ]
  },
  {
   "cell_type": "code",
   "execution_count": 18,
   "metadata": {},
   "outputs": [
    {
     "data": {
      "text/html": [
       "<div>\n",
       "<style scoped>\n",
       "    .dataframe tbody tr th:only-of-type {\n",
       "        vertical-align: middle;\n",
       "    }\n",
       "\n",
       "    .dataframe tbody tr th {\n",
       "        vertical-align: top;\n",
       "    }\n",
       "\n",
       "    .dataframe thead th {\n",
       "        text-align: right;\n",
       "    }\n",
       "</style>\n",
       "<table border=\"1\" class=\"dataframe\">\n",
       "  <thead>\n",
       "    <tr style=\"text-align: right;\">\n",
       "      <th></th>\n",
       "      <th>NewsAgency</th>\n",
       "      <th>body</th>\n",
       "      <th>newsPath</th>\n",
       "      <th>newsPathLinks</th>\n",
       "      <th>rutitr</th>\n",
       "      <th>subtitle</th>\n",
       "      <th>tags</th>\n",
       "      <th>title</th>\n",
       "    </tr>\n",
       "  </thead>\n",
       "  <tbody>\n",
       "    <tr>\n",
       "      <th>0</th>\n",
       "      <td>AsrIran</td>\n",
       "      <td>مدیرعامل سابق استقلال از عضویت در هیات مدیره ا...</td>\n",
       "      <td>صفحه نخست » ورزشی</td>\n",
       "      <td>{'صفحه نخست': '/fa/archive?service_id=1', 'ورز...</td>\n",
       "      <td></td>\n",
       "      <td></td>\n",
       "      <td>{'استقلال': '/fa/tag/1/استقلال', 'افتخاری': '/...</td>\n",
       "      <td>افتخاری قید ماندن در هیات مدیره استقلال را هم زد</td>\n",
       "    </tr>\n",
       "    <tr>\n",
       "      <th>1</th>\n",
       "      <td>AsrIran</td>\n",
       "      <td>دادستان انتظامی مالیاتی سازمان امور مالیاتی گف...</td>\n",
       "      <td>صفحه نخست » اجتماعی</td>\n",
       "      <td>{'صفحه نخست': '/fa/archive?service_id=1', 'اجت...</td>\n",
       "      <td></td>\n",
       "      <td></td>\n",
       "      <td>{'مالیات': '/fa/tag/1/مالیات', 'دادستان': '/fa...</td>\n",
       "      <td>دادستان انتظامی مالیاتی سازمان مالیات: آخرین ا...</td>\n",
       "    </tr>\n",
       "    <tr>\n",
       "      <th>2</th>\n",
       "      <td>AsrIran</td>\n",
       "      <td>قیمت سبد نفتی اوپک دیروز به روند کاهشی خود ادا...</td>\n",
       "      <td>صفحه نخست » اقتصادی</td>\n",
       "      <td>{'صفحه نخست': '/fa/archive?service_id=1', 'اقت...</td>\n",
       "      <td></td>\n",
       "      <td></td>\n",
       "      <td>{'اوپک': '/fa/tag/1/اوپک', 'نفت': '/fa/tag/1/ن...</td>\n",
       "      <td>قیمت سبد نفتی اوپک یک گام دیگر عقب نشست/ 70 دل...</td>\n",
       "    </tr>\n",
       "    <tr>\n",
       "      <th>3</th>\n",
       "      <td>AsrIran</td>\n",
       "      <td>رئیس فراکسیون فرهنگیان مجلس خطاب به وزیر آموزش...</td>\n",
       "      <td>صفحه نخست » اجتماعی</td>\n",
       "      <td>{'صفحه نخست': '/fa/archive?service_id=1', 'اجت...</td>\n",
       "      <td></td>\n",
       "      <td></td>\n",
       "      <td>{'آموزش و پرورش': '/fa/tag/1/آموزش و پرورش', '...</td>\n",
       "      <td>حاجی‌بابایی به بطحایی:آقای وزیر در اطلاع‌رسانی...</td>\n",
       "    </tr>\n",
       "    <tr>\n",
       "      <th>4</th>\n",
       "      <td>AsrIran</td>\n",
       "      <td>رئیس صندوق بین&amp;zwnj;المللی پول در آستانه نشست ...</td>\n",
       "      <td>صفحه نخست » بین الملل</td>\n",
       "      <td>{'صفحه نخست': '/fa/archive?service_id=1', 'بین...</td>\n",
       "      <td></td>\n",
       "      <td></td>\n",
       "      <td>{'صندوق بین المللی پول': '/fa/tag/1/صندوق بین ...</td>\n",
       "      <td>رئیس صندوق بین‌المللی پول: آمریکا از جنگ تعرفه...</td>\n",
       "    </tr>\n",
       "  </tbody>\n",
       "</table>\n",
       "</div>"
      ],
      "text/plain": [
       "  NewsAgency                                               body  \\\n",
       "0    AsrIran  مدیرعامل سابق استقلال از عضویت در هیات مدیره ا...   \n",
       "1    AsrIran  دادستان انتظامی مالیاتی سازمان امور مالیاتی گف...   \n",
       "2    AsrIran  قیمت سبد نفتی اوپک دیروز به روند کاهشی خود ادا...   \n",
       "3    AsrIran  رئیس فراکسیون فرهنگیان مجلس خطاب به وزیر آموزش...   \n",
       "4    AsrIran  رئیس صندوق بین&zwnj;المللی پول در آستانه نشست ...   \n",
       "\n",
       "                newsPath                                      newsPathLinks  \\\n",
       "0      صفحه نخست » ورزشی  {'صفحه نخست': '/fa/archive?service_id=1', 'ورز...   \n",
       "1    صفحه نخست » اجتماعی  {'صفحه نخست': '/fa/archive?service_id=1', 'اجت...   \n",
       "2    صفحه نخست » اقتصادی  {'صفحه نخست': '/fa/archive?service_id=1', 'اقت...   \n",
       "3    صفحه نخست » اجتماعی  {'صفحه نخست': '/fa/archive?service_id=1', 'اجت...   \n",
       "4  صفحه نخست » بین الملل  {'صفحه نخست': '/fa/archive?service_id=1', 'بین...   \n",
       "\n",
       "  rutitr subtitle                                               tags  \\\n",
       "0                  {'استقلال': '/fa/tag/1/استقلال', 'افتخاری': '/...   \n",
       "1                  {'مالیات': '/fa/tag/1/مالیات', 'دادستان': '/fa...   \n",
       "2                  {'اوپک': '/fa/tag/1/اوپک', 'نفت': '/fa/tag/1/ن...   \n",
       "3                  {'آموزش و پرورش': '/fa/tag/1/آموزش و پرورش', '...   \n",
       "4                  {'صندوق بین المللی پول': '/fa/tag/1/صندوق بین ...   \n",
       "\n",
       "                                               title  \n",
       "0   افتخاری قید ماندن در هیات مدیره استقلال را هم زد  \n",
       "1  دادستان انتظامی مالیاتی سازمان مالیات: آخرین ا...  \n",
       "2  قیمت سبد نفتی اوپک یک گام دیگر عقب نشست/ 70 دل...  \n",
       "3  حاجی‌بابایی به بطحایی:آقای وزیر در اطلاع‌رسانی...  \n",
       "4  رئیس صندوق بین‌المللی پول: آمریکا از جنگ تعرفه...  "
      ]
     },
     "execution_count": 18,
     "metadata": {},
     "output_type": "execute_result"
    }
   ],
   "source": [
    "news.head(5)"
   ]
  },
  {
   "cell_type": "markdown",
   "metadata": {},
   "source": [
    "### newsPath & newsPathLinks"
   ]
  },
  {
   "cell_type": "code",
   "execution_count": 19,
   "metadata": {},
   "outputs": [
    {
     "name": "stdout",
     "output_type": "stream",
     "text": [
      "news path links and news path show the same thing? =>  True\n"
     ]
    },
    {
     "data": {
      "text/html": [
       "<div>\n",
       "<style scoped>\n",
       "    .dataframe tbody tr th:only-of-type {\n",
       "        vertical-align: middle;\n",
       "    }\n",
       "\n",
       "    .dataframe tbody tr th {\n",
       "        vertical-align: top;\n",
       "    }\n",
       "\n",
       "    .dataframe thead th {\n",
       "        text-align: right;\n",
       "    }\n",
       "</style>\n",
       "<table border=\"1\" class=\"dataframe\">\n",
       "  <thead>\n",
       "    <tr style=\"text-align: right;\">\n",
       "      <th></th>\n",
       "      <th>0</th>\n",
       "      <th>1</th>\n",
       "      <th>2</th>\n",
       "      <th>3</th>\n",
       "      <th>4</th>\n",
       "      <th>5</th>\n",
       "      <th>6</th>\n",
       "      <th>7</th>\n",
       "      <th>8</th>\n",
       "      <th>9</th>\n",
       "      <th>10</th>\n",
       "      <th>11</th>\n",
       "      <th>12</th>\n",
       "      <th>13</th>\n",
       "      <th>14</th>\n",
       "      <th>15</th>\n",
       "      <th>16</th>\n",
       "    </tr>\n",
       "  </thead>\n",
       "  <tbody>\n",
       "    <tr>\n",
       "      <th>0</th>\n",
       "      <td>خواندنی ها و دیدنی ها</td>\n",
       "      <td>ورزشی</td>\n",
       "      <td>روانشناسی</td>\n",
       "      <td>علمی</td>\n",
       "      <td>فناوری و IT</td>\n",
       "      <td>حوادث</td>\n",
       "      <td>سلامت</td>\n",
       "      <td>داستان کوتاه</td>\n",
       "      <td>اقتصادی</td>\n",
       "      <td>فرهنگی/هنری</td>\n",
       "      <td>عمومی</td>\n",
       "      <td>دانلود</td>\n",
       "      <td>سیاسی</td>\n",
       "      <td>سیاست خارجی</td>\n",
       "      <td>بین الملل</td>\n",
       "      <td>اجتماعی</td>\n",
       "      <td>سرگرمی</td>\n",
       "    </tr>\n",
       "  </tbody>\n",
       "</table>\n",
       "</div>"
      ],
      "text/plain": [
       "                      0      1          2     3            4      5      6   \\\n",
       "0  خواندنی ها و دیدنی ها  ورزشی  روانشناسی  علمی  فناوری و IT  حوادث  سلامت   \n",
       "\n",
       "             7        8            9      10      11     12           13  \\\n",
       "0  داستان کوتاه  اقتصادی  فرهنگی/هنری  عمومی  دانلود  سیاسی  سیاست خارجی   \n",
       "\n",
       "          14       15      16  \n",
       "0  بین الملل  اجتماعی  سرگرمی  "
      ]
     },
     "execution_count": 19,
     "metadata": {},
     "output_type": "execute_result"
    }
   ],
   "source": [
    "newspathlinks_tags = list(set([list(x.keys())[1] for x in news.newsPathLinks]))\n",
    "newspath_tags = list(set(x.split(' » ')[1] for x in news.newsPath))\n",
    "print(\"news path links and news path show the same thing? => \", newspath_tags == newspathlinks_tags)\n",
    "valid_tags = newspath_tags\n",
    "pd.DataFrame([valid_tags])"
   ]
  },
  {
   "cell_type": "markdown",
   "metadata": {},
   "source": [
    "Note: we can remove `newsPathLinks` because it is exactly duplicate of `newsPath` and update `newsPath` column in dataframe with just one keyword"
   ]
  },
  {
   "cell_type": "code",
   "execution_count": 20,
   "metadata": {},
   "outputs": [
    {
     "data": {
      "text/html": [
       "<div>\n",
       "<style scoped>\n",
       "    .dataframe tbody tr th:only-of-type {\n",
       "        vertical-align: middle;\n",
       "    }\n",
       "\n",
       "    .dataframe tbody tr th {\n",
       "        vertical-align: top;\n",
       "    }\n",
       "\n",
       "    .dataframe thead th {\n",
       "        text-align: right;\n",
       "    }\n",
       "</style>\n",
       "<table border=\"1\" class=\"dataframe\">\n",
       "  <thead>\n",
       "    <tr style=\"text-align: right;\">\n",
       "      <th></th>\n",
       "      <th>NewsAgency</th>\n",
       "      <th>body</th>\n",
       "      <th>newsPath</th>\n",
       "      <th>rutitr</th>\n",
       "      <th>subtitle</th>\n",
       "      <th>tags</th>\n",
       "      <th>title</th>\n",
       "    </tr>\n",
       "  </thead>\n",
       "  <tbody>\n",
       "    <tr>\n",
       "      <th>0</th>\n",
       "      <td>AsrIran</td>\n",
       "      <td>مدیرعامل سابق استقلال از عضویت در هیات مدیره ا...</td>\n",
       "      <td>صفحه نخست » ورزشی</td>\n",
       "      <td></td>\n",
       "      <td></td>\n",
       "      <td>{'استقلال': '/fa/tag/1/استقلال', 'افتخاری': '/...</td>\n",
       "      <td>افتخاری قید ماندن در هیات مدیره استقلال را هم زد</td>\n",
       "    </tr>\n",
       "    <tr>\n",
       "      <th>1</th>\n",
       "      <td>AsrIran</td>\n",
       "      <td>دادستان انتظامی مالیاتی سازمان امور مالیاتی گف...</td>\n",
       "      <td>صفحه نخست » اجتماعی</td>\n",
       "      <td></td>\n",
       "      <td></td>\n",
       "      <td>{'مالیات': '/fa/tag/1/مالیات', 'دادستان': '/fa...</td>\n",
       "      <td>دادستان انتظامی مالیاتی سازمان مالیات: آخرین ا...</td>\n",
       "    </tr>\n",
       "  </tbody>\n",
       "</table>\n",
       "</div>"
      ],
      "text/plain": [
       "  NewsAgency                                               body  \\\n",
       "0    AsrIran  مدیرعامل سابق استقلال از عضویت در هیات مدیره ا...   \n",
       "1    AsrIran  دادستان انتظامی مالیاتی سازمان امور مالیاتی گف...   \n",
       "\n",
       "              newsPath rutitr subtitle  \\\n",
       "0    صفحه نخست » ورزشی                   \n",
       "1  صفحه نخست » اجتماعی                   \n",
       "\n",
       "                                                tags  \\\n",
       "0  {'استقلال': '/fa/tag/1/استقلال', 'افتخاری': '/...   \n",
       "1  {'مالیات': '/fa/tag/1/مالیات', 'دادستان': '/fa...   \n",
       "\n",
       "                                               title  \n",
       "0   افتخاری قید ماندن در هیات مدیره استقلال را هم زد  \n",
       "1  دادستان انتظامی مالیاتی سازمان مالیات: آخرین ا...  "
      ]
     },
     "execution_count": 20,
     "metadata": {},
     "output_type": "execute_result"
    }
   ],
   "source": [
    "news = news.drop(['newsPathLinks'], axis=1)\n",
    "news.head(2)"
   ]
  },
  {
   "cell_type": "code",
   "execution_count": 21,
   "metadata": {},
   "outputs": [
    {
     "data": {
      "text/html": [
       "<div>\n",
       "<style scoped>\n",
       "    .dataframe tbody tr th:only-of-type {\n",
       "        vertical-align: middle;\n",
       "    }\n",
       "\n",
       "    .dataframe tbody tr th {\n",
       "        vertical-align: top;\n",
       "    }\n",
       "\n",
       "    .dataframe thead th {\n",
       "        text-align: right;\n",
       "    }\n",
       "</style>\n",
       "<table border=\"1\" class=\"dataframe\">\n",
       "  <thead>\n",
       "    <tr style=\"text-align: right;\">\n",
       "      <th></th>\n",
       "      <th>NewsAgency</th>\n",
       "      <th>body</th>\n",
       "      <th>newsPath</th>\n",
       "      <th>rutitr</th>\n",
       "      <th>subtitle</th>\n",
       "      <th>tags</th>\n",
       "      <th>title</th>\n",
       "    </tr>\n",
       "  </thead>\n",
       "  <tbody>\n",
       "    <tr>\n",
       "      <th>0</th>\n",
       "      <td>AsrIran</td>\n",
       "      <td>مدیرعامل سابق استقلال از عضویت در هیات مدیره ا...</td>\n",
       "      <td>ورزشی</td>\n",
       "      <td></td>\n",
       "      <td></td>\n",
       "      <td>{'استقلال': '/fa/tag/1/استقلال', 'افتخاری': '/...</td>\n",
       "      <td>افتخاری قید ماندن در هیات مدیره استقلال را هم زد</td>\n",
       "    </tr>\n",
       "    <tr>\n",
       "      <th>1</th>\n",
       "      <td>AsrIran</td>\n",
       "      <td>دادستان انتظامی مالیاتی سازمان امور مالیاتی گف...</td>\n",
       "      <td>اجتماعی</td>\n",
       "      <td></td>\n",
       "      <td></td>\n",
       "      <td>{'مالیات': '/fa/tag/1/مالیات', 'دادستان': '/fa...</td>\n",
       "      <td>دادستان انتظامی مالیاتی سازمان مالیات: آخرین ا...</td>\n",
       "    </tr>\n",
       "    <tr>\n",
       "      <th>2</th>\n",
       "      <td>AsrIran</td>\n",
       "      <td>قیمت سبد نفتی اوپک دیروز به روند کاهشی خود ادا...</td>\n",
       "      <td>اقتصادی</td>\n",
       "      <td></td>\n",
       "      <td></td>\n",
       "      <td>{'اوپک': '/fa/tag/1/اوپک', 'نفت': '/fa/tag/1/ن...</td>\n",
       "      <td>قیمت سبد نفتی اوپک یک گام دیگر عقب نشست/ 70 دل...</td>\n",
       "    </tr>\n",
       "  </tbody>\n",
       "</table>\n",
       "</div>"
      ],
      "text/plain": [
       "  NewsAgency                                               body newsPath  \\\n",
       "0    AsrIran  مدیرعامل سابق استقلال از عضویت در هیات مدیره ا...    ورزشی   \n",
       "1    AsrIran  دادستان انتظامی مالیاتی سازمان امور مالیاتی گف...  اجتماعی   \n",
       "2    AsrIran  قیمت سبد نفتی اوپک دیروز به روند کاهشی خود ادا...  اقتصادی   \n",
       "\n",
       "  rutitr subtitle                                               tags  \\\n",
       "0                  {'استقلال': '/fa/tag/1/استقلال', 'افتخاری': '/...   \n",
       "1                  {'مالیات': '/fa/tag/1/مالیات', 'دادستان': '/fa...   \n",
       "2                  {'اوپک': '/fa/tag/1/اوپک', 'نفت': '/fa/tag/1/ن...   \n",
       "\n",
       "                                               title  \n",
       "0   افتخاری قید ماندن در هیات مدیره استقلال را هم زد  \n",
       "1  دادستان انتظامی مالیاتی سازمان مالیات: آخرین ا...  \n",
       "2  قیمت سبد نفتی اوپک یک گام دیگر عقب نشست/ 70 دل...  "
      ]
     },
     "execution_count": 21,
     "metadata": {},
     "output_type": "execute_result"
    }
   ],
   "source": [
    "news.loc[:,'newsPath'] = list(x.split(' » ')[1] for x in news.newsPath)\n",
    "news.head(3)"
   ]
  },
  {
   "cell_type": "markdown",
   "metadata": {},
   "source": [
    "### NewsAgency"
   ]
  },
  {
   "cell_type": "code",
   "execution_count": 22,
   "metadata": {},
   "outputs": [
    {
     "data": {
      "text/html": [
       "<div>\n",
       "<style scoped>\n",
       "    .dataframe tbody tr th:only-of-type {\n",
       "        vertical-align: middle;\n",
       "    }\n",
       "\n",
       "    .dataframe tbody tr th {\n",
       "        vertical-align: top;\n",
       "    }\n",
       "\n",
       "    .dataframe thead th {\n",
       "        text-align: right;\n",
       "    }\n",
       "</style>\n",
       "<table border=\"1\" class=\"dataframe\">\n",
       "  <thead>\n",
       "    <tr style=\"text-align: right;\">\n",
       "      <th></th>\n",
       "      <th>0</th>\n",
       "    </tr>\n",
       "  </thead>\n",
       "  <tbody>\n",
       "    <tr>\n",
       "      <th>0</th>\n",
       "      <td>AsrIran</td>\n",
       "    </tr>\n",
       "  </tbody>\n",
       "</table>\n",
       "</div>"
      ],
      "text/plain": [
       "         0\n",
       "0  AsrIran"
      ]
     },
     "execution_count": 22,
     "metadata": {},
     "output_type": "execute_result"
    }
   ],
   "source": [
    "news_agencies = list(news.NewsAgency.unique())\n",
    "pd.DataFrame([news_agencies])"
   ]
  },
  {
   "cell_type": "markdown",
   "metadata": {},
   "source": [
    "### tags"
   ]
  },
  {
   "cell_type": "code",
   "execution_count": 23,
   "metadata": {},
   "outputs": [
    {
     "name": "stdout",
     "output_type": "stream",
     "text": [
      "not processed tags_dict {'استقلال': '/fa/tag/1/استقلال', 'افتخاری': '/fa/tag/1/افتخاری'}\n",
      "processesd tags_dict ['افتخاری', 'استقلال']\n"
     ]
    }
   ],
   "source": [
    "def tag_extractor(tags_dict):\n",
    "    \"\"\"\n",
    "    gets a tags dictionary and finds unique tags in collection of values and keys\n",
    "    \n",
    "    ::params tags_dict : \n",
    "    \"\"\"\n",
    "    keys = list(set(tags_dict.keys()))\n",
    "    values = { v.split('/')[-1] for v in set(tags_dict.values())}\n",
    "    [values.add(i) for i in keys]\n",
    "    return list(values)\n",
    "\n",
    "print('not processed tags_dict',news.tags[0])\n",
    "print('processesd tags_dict',tag_extractor(news.tags[0]))"
   ]
  },
  {
   "cell_type": "markdown",
   "metadata": {},
   "source": [
    "Now we replace `tags` column with extract values from `tag_extractor` function."
   ]
  },
  {
   "cell_type": "code",
   "execution_count": 24,
   "metadata": {},
   "outputs": [],
   "source": [
    "news.loc[:, 'tags'] = [tag_extractor(tag) for tag in news.tags]"
   ]
  },
  {
   "cell_type": "code",
   "execution_count": 27,
   "metadata": {},
   "outputs": [
    {
     "data": {
      "text/html": [
       "<div>\n",
       "<style scoped>\n",
       "    .dataframe tbody tr th:only-of-type {\n",
       "        vertical-align: middle;\n",
       "    }\n",
       "\n",
       "    .dataframe tbody tr th {\n",
       "        vertical-align: top;\n",
       "    }\n",
       "\n",
       "    .dataframe thead th {\n",
       "        text-align: right;\n",
       "    }\n",
       "</style>\n",
       "<table border=\"1\" class=\"dataframe\">\n",
       "  <thead>\n",
       "    <tr style=\"text-align: right;\">\n",
       "      <th></th>\n",
       "      <th>NewsAgency</th>\n",
       "      <th>body</th>\n",
       "      <th>newsPath</th>\n",
       "      <th>rutitr</th>\n",
       "      <th>subtitle</th>\n",
       "      <th>tags</th>\n",
       "      <th>title</th>\n",
       "    </tr>\n",
       "  </thead>\n",
       "  <tbody>\n",
       "    <tr>\n",
       "      <th>0</th>\n",
       "      <td>AsrIran</td>\n",
       "      <td>مدیرعامل سابق استقلال از عضویت در هیات مدیره ا...</td>\n",
       "      <td>ورزشی</td>\n",
       "      <td></td>\n",
       "      <td></td>\n",
       "      <td>[افتخاری, استقلال]</td>\n",
       "      <td>افتخاری قید ماندن در هیات مدیره استقلال را هم زد</td>\n",
       "    </tr>\n",
       "    <tr>\n",
       "      <th>1</th>\n",
       "      <td>AsrIran</td>\n",
       "      <td>دادستان انتظامی مالیاتی سازمان امور مالیاتی گف...</td>\n",
       "      <td>اجتماعی</td>\n",
       "      <td></td>\n",
       "      <td></td>\n",
       "      <td>[دادستان, مالیات]</td>\n",
       "      <td>دادستان انتظامی مالیاتی سازمان مالیات: آخرین ا...</td>\n",
       "    </tr>\n",
       "    <tr>\n",
       "      <th>2</th>\n",
       "      <td>AsrIran</td>\n",
       "      <td>قیمت سبد نفتی اوپک دیروز به روند کاهشی خود ادا...</td>\n",
       "      <td>اقتصادی</td>\n",
       "      <td></td>\n",
       "      <td></td>\n",
       "      <td>[نفت, اوپک]</td>\n",
       "      <td>قیمت سبد نفتی اوپک یک گام دیگر عقب نشست/ 70 دل...</td>\n",
       "    </tr>\n",
       "    <tr>\n",
       "      <th>3</th>\n",
       "      <td>AsrIran</td>\n",
       "      <td>رئیس فراکسیون فرهنگیان مجلس خطاب به وزیر آموزش...</td>\n",
       "      <td>اجتماعی</td>\n",
       "      <td></td>\n",
       "      <td></td>\n",
       "      <td>[فرهنگیان, آموزش و پرورش]</td>\n",
       "      <td>حاجی‌بابایی به بطحایی:آقای وزیر در اطلاع‌رسانی...</td>\n",
       "    </tr>\n",
       "    <tr>\n",
       "      <th>4</th>\n",
       "      <td>AsrIran</td>\n",
       "      <td>رئیس صندوق بین&amp;zwnj;المللی پول در آستانه نشست ...</td>\n",
       "      <td>بین الملل</td>\n",
       "      <td></td>\n",
       "      <td></td>\n",
       "      <td>[امریکا, صندوق بین المللی پول]</td>\n",
       "      <td>رئیس صندوق بین‌المللی پول: آمریکا از جنگ تعرفه...</td>\n",
       "    </tr>\n",
       "  </tbody>\n",
       "</table>\n",
       "</div>"
      ],
      "text/plain": [
       "  NewsAgency                                               body   newsPath  \\\n",
       "0    AsrIran  مدیرعامل سابق استقلال از عضویت در هیات مدیره ا...      ورزشی   \n",
       "1    AsrIran  دادستان انتظامی مالیاتی سازمان امور مالیاتی گف...    اجتماعی   \n",
       "2    AsrIran  قیمت سبد نفتی اوپک دیروز به روند کاهشی خود ادا...    اقتصادی   \n",
       "3    AsrIran  رئیس فراکسیون فرهنگیان مجلس خطاب به وزیر آموزش...    اجتماعی   \n",
       "4    AsrIran  رئیس صندوق بین&zwnj;المللی پول در آستانه نشست ...  بین الملل   \n",
       "\n",
       "  rutitr subtitle                            tags  \\\n",
       "0                              [افتخاری, استقلال]   \n",
       "1                               [دادستان, مالیات]   \n",
       "2                                     [نفت, اوپک]   \n",
       "3                       [فرهنگیان, آموزش و پرورش]   \n",
       "4                  [امریکا, صندوق بین المللی پول]   \n",
       "\n",
       "                                               title  \n",
       "0   افتخاری قید ماندن در هیات مدیره استقلال را هم زد  \n",
       "1  دادستان انتظامی مالیاتی سازمان مالیات: آخرین ا...  \n",
       "2  قیمت سبد نفتی اوپک یک گام دیگر عقب نشست/ 70 دل...  \n",
       "3  حاجی‌بابایی به بطحایی:آقای وزیر در اطلاع‌رسانی...  \n",
       "4  رئیس صندوق بین‌المللی پول: آمریکا از جنگ تعرفه...  "
      ]
     },
     "execution_count": 27,
     "metadata": {},
     "output_type": "execute_result"
    }
   ],
   "source": [
    "news.head(5)"
   ]
  },
  {
   "cell_type": "markdown",
   "metadata": {},
   "source": [
    "<font color='yellow'>Note:</font> If you look at row 0 and row 10, you can see there is many noise in this dataset. We have two different tags for same news."
   ]
  },
  {
   "cell_type": "markdown",
   "metadata": {},
   "source": [
    "## Normalizing"
   ]
  },
  {
   "cell_type": "code",
   "execution_count": 28,
   "metadata": {},
   "outputs": [],
   "source": [
    "normalizer = Normalizer()\n",
    "news['body'] = news['body'].apply(normalizer.normalize)\n",
    "news['rutitr'] = news['rutitr'].apply(normalizer.normalize)\n",
    "news['subtitle'] = news['subtitle'].apply(normalizer.normalize)\n",
    "news['title'] = news['title'].apply(normalizer.normalize)"
   ]
  },
  {
   "cell_type": "markdown",
   "metadata": {},
   "source": [
    "## Tokenizing"
   ]
  },
  {
   "cell_type": "code",
   "execution_count": 29,
   "metadata": {},
   "outputs": [],
   "source": [
    "def tokenize(phrase):\n",
    "    sentences = sent_tokenize(phrase)\n",
    "    if len(sentences) > 1:\n",
    "        words = reduce(np.append, [word_tokenize(sentence) for sentence in sentences])\n",
    "    elif len(sentences) == 1:\n",
    "        words = word_tokenize(sentences[0])\n",
    "    else:\n",
    "        words = None\n",
    "    return words"
   ]
  },
  {
   "cell_type": "code",
   "execution_count": 30,
   "metadata": {},
   "outputs": [],
   "source": [
    "news['body'] = news['body'].apply(tokenize)\n",
    "news['rutitr'] = news['rutitr'].apply(tokenize)\n",
    "news['subtitle'] = news['subtitle'].apply(tokenize)\n",
    "news['title'] = news['title'].apply(tokenize)"
   ]
  },
  {
   "cell_type": "markdown",
   "metadata": {},
   "source": [
    "## Stemming"
   ]
  },
  {
   "cell_type": "code",
   "execution_count": 31,
   "metadata": {},
   "outputs": [],
   "source": [
    "stemmer = Stemmer()\n",
    "stem = lambda s: [stemmer.stem(w) for w in s] if s is not None else None\n",
    "news['body'] = news['body'].apply(stem)\n",
    "news['rutitr'] = news['rutitr'].apply(stem)\n",
    "news['subtitle'] = news['subtitle'].apply(stem)\n",
    "news['title'] = news['title'].apply(stem)"
   ]
  },
  {
   "cell_type": "markdown",
   "metadata": {},
   "source": [
    "## Lemmatizing"
   ]
  },
  {
   "cell_type": "code",
   "execution_count": 32,
   "metadata": {},
   "outputs": [],
   "source": [
    "lemmatizer = Lemmatizer()\n",
    "lemmatize = lambda s: [lemmatizer.lemmatize(w) for w in s] if s is not None else None\n",
    "news['body'] = news['body'].apply(lemmatize)\n",
    "news['rutitr'] = news['rutitr'].apply(lemmatize)\n",
    "news['subtitle'] = news['subtitle'].apply(lemmatize)\n",
    "news['title'] = news['title'].apply(lemmatize)"
   ]
  },
  {
   "cell_type": "code",
   "execution_count": 36,
   "metadata": {},
   "outputs": [
    {
     "data": {
      "text/html": [
       "<div>\n",
       "<style scoped>\n",
       "    .dataframe tbody tr th:only-of-type {\n",
       "        vertical-align: middle;\n",
       "    }\n",
       "\n",
       "    .dataframe tbody tr th {\n",
       "        vertical-align: top;\n",
       "    }\n",
       "\n",
       "    .dataframe thead th {\n",
       "        text-align: right;\n",
       "    }\n",
       "</style>\n",
       "<table border=\"1\" class=\"dataframe\">\n",
       "  <thead>\n",
       "    <tr style=\"text-align: right;\">\n",
       "      <th></th>\n",
       "      <th>NewsAgency</th>\n",
       "      <th>body</th>\n",
       "      <th>newsPath</th>\n",
       "      <th>rutitr</th>\n",
       "      <th>subtitle</th>\n",
       "      <th>tags</th>\n",
       "      <th>title</th>\n",
       "    </tr>\n",
       "  </thead>\n",
       "  <tbody>\n",
       "    <tr>\n",
       "      <th>0</th>\n",
       "      <td>AsrIran</td>\n",
       "      <td>[مدیرعامل, سابق, استقلال, از, عضو, در, ه, مدیر...</td>\n",
       "      <td>ورزشی</td>\n",
       "      <td>None</td>\n",
       "      <td>None</td>\n",
       "      <td>[افتخاری, استقلال]</td>\n",
       "      <td>[افتخار, قید, ماندن, در, ه, مدیره, استقلال, را...</td>\n",
       "    </tr>\n",
       "    <tr>\n",
       "      <th>1</th>\n",
       "      <td>AsrIran</td>\n",
       "      <td>[دادس, انتظام, مالیات, ساز, امور, مالیات, گف, ...</td>\n",
       "      <td>اجتماعی</td>\n",
       "      <td>None</td>\n",
       "      <td>None</td>\n",
       "      <td>[دادستان, مالیات]</td>\n",
       "      <td>[دادس, انتظام, مالیات, ساز, مال, :, آخرین, اخط...</td>\n",
       "    </tr>\n",
       "    <tr>\n",
       "      <th>2</th>\n",
       "      <td>AsrIran</td>\n",
       "      <td>[قیم, سبد, نفت, اوپک, دیروز, به, روند, کاهش, خ...</td>\n",
       "      <td>اقتصادی</td>\n",
       "      <td>None</td>\n",
       "      <td>None</td>\n",
       "      <td>[نفت, اوپک]</td>\n",
       "      <td>[قیم, سبد, نفت, اوپک, یک, گا, دیگر, عقب, نشست/...</td>\n",
       "    </tr>\n",
       "    <tr>\n",
       "      <th>3</th>\n",
       "      <td>AsrIran</td>\n",
       "      <td>[رئیس, فراکسیون, فرهنگ, مجلس, خطاب, به, وزیر, ...</td>\n",
       "      <td>اجتماعی</td>\n",
       "      <td>None</td>\n",
       "      <td>None</td>\n",
       "      <td>[فرهنگیان, آموزش و پرورش]</td>\n",
       "      <td>[حاجی‌بابا, به, بطحا, :, آقا, وزیر, در, اطلاع‌...</td>\n",
       "    </tr>\n",
       "    <tr>\n",
       "      <th>4</th>\n",
       "      <td>AsrIran</td>\n",
       "      <td>[رئیس, صندوق, بین&amp;zwnj;الملل, پول, در, آستانه,...</td>\n",
       "      <td>بین الملل</td>\n",
       "      <td>None</td>\n",
       "      <td>None</td>\n",
       "      <td>[امریکا, صندوق بین المللی پول]</td>\n",
       "      <td>[رئیس, صندوق, بین‌الملل, پول, :, آمریکا, از, ج...</td>\n",
       "    </tr>\n",
       "  </tbody>\n",
       "</table>\n",
       "</div>"
      ],
      "text/plain": [
       "  NewsAgency                                               body   newsPath  \\\n",
       "0    AsrIran  [مدیرعامل, سابق, استقلال, از, عضو, در, ه, مدیر...      ورزشی   \n",
       "1    AsrIran  [دادس, انتظام, مالیات, ساز, امور, مالیات, گف, ...    اجتماعی   \n",
       "2    AsrIran  [قیم, سبد, نفت, اوپک, دیروز, به, روند, کاهش, خ...    اقتصادی   \n",
       "3    AsrIran  [رئیس, فراکسیون, فرهنگ, مجلس, خطاب, به, وزیر, ...    اجتماعی   \n",
       "4    AsrIran  [رئیس, صندوق, بین&zwnj;الملل, پول, در, آستانه,...  بین الملل   \n",
       "\n",
       "  rutitr subtitle                            tags  \\\n",
       "0   None     None              [افتخاری, استقلال]   \n",
       "1   None     None               [دادستان, مالیات]   \n",
       "2   None     None                     [نفت, اوپک]   \n",
       "3   None     None       [فرهنگیان, آموزش و پرورش]   \n",
       "4   None     None  [امریکا, صندوق بین المللی پول]   \n",
       "\n",
       "                                               title  \n",
       "0  [افتخار, قید, ماندن, در, ه, مدیره, استقلال, را...  \n",
       "1  [دادس, انتظام, مالیات, ساز, مال, :, آخرین, اخط...  \n",
       "2  [قیم, سبد, نفت, اوپک, یک, گا, دیگر, عقب, نشست/...  \n",
       "3  [حاجی‌بابا, به, بطحا, :, آقا, وزیر, در, اطلاع‌...  \n",
       "4  [رئیس, صندوق, بین‌الملل, پول, :, آمریکا, از, ج...  "
      ]
     },
     "execution_count": 36,
     "metadata": {},
     "output_type": "execute_result"
    }
   ],
   "source": [
    "news.head(5)"
   ]
  },
  {
   "cell_type": "markdown",
   "metadata": {},
   "source": [
    "## Removing Stopwords\n",
    "For this step, we use stopwords from <a href='https://github.com/kharazi/persian-stopwords'>this repository</a>.\n",
    "\n",
    "There are some files of stopwords and we are using <a href='https://github.com/kharazi/persian-stopwords/blob/master/persian'>this</a>.\n",
    "\n",
    "```bash\n",
    "git clone https://github.com/kharazi/persian-stopwords.git\n",
    "```"
   ]
  },
  {
   "cell_type": "code",
   "execution_count": 96,
   "metadata": {},
   "outputs": [
    {
     "data": {
      "text/html": [
       "<div>\n",
       "<style scoped>\n",
       "    .dataframe tbody tr th:only-of-type {\n",
       "        vertical-align: middle;\n",
       "    }\n",
       "\n",
       "    .dataframe tbody tr th {\n",
       "        vertical-align: top;\n",
       "    }\n",
       "\n",
       "    .dataframe thead th {\n",
       "        text-align: right;\n",
       "    }\n",
       "</style>\n",
       "<table border=\"1\" class=\"dataframe\">\n",
       "  <thead>\n",
       "    <tr style=\"text-align: right;\">\n",
       "      <th></th>\n",
       "      <th>0</th>\n",
       "      <th>1</th>\n",
       "      <th>2</th>\n",
       "      <th>3</th>\n",
       "      <th>4</th>\n",
       "      <th>5</th>\n",
       "      <th>6</th>\n",
       "      <th>7</th>\n",
       "      <th>8</th>\n",
       "      <th>9</th>\n",
       "      <th>10</th>\n",
       "      <th>11</th>\n",
       "      <th>12</th>\n",
       "      <th>13</th>\n",
       "      <th>14</th>\n",
       "      <th>15</th>\n",
       "      <th>16</th>\n",
       "      <th>17</th>\n",
       "      <th>18</th>\n",
       "      <th>19</th>\n",
       "    </tr>\n",
       "  </thead>\n",
       "  <tbody>\n",
       "    <tr>\n",
       "      <th>0</th>\n",
       "      <td>اید</td>\n",
       "      <td>ایشان</td>\n",
       "      <td>ایم</td>\n",
       "      <td>این</td>\n",
       "      <td>این جوری</td>\n",
       "      <td>این قدر</td>\n",
       "      <td>این گونه</td>\n",
       "      <td>اینان</td>\n",
       "      <td>اینجا</td>\n",
       "      <td>اینجاست</td>\n",
       "      <td>ایند</td>\n",
       "      <td>اینطور</td>\n",
       "      <td>اینقدر</td>\n",
       "      <td>اینها</td>\n",
       "      <td>اینهاست</td>\n",
       "      <td>اینو</td>\n",
       "      <td>اینچنین</td>\n",
       "      <td>اینک</td>\n",
       "      <td>اینکه</td>\n",
       "      <td>اینگونه</td>\n",
       "    </tr>\n",
       "  </tbody>\n",
       "</table>\n",
       "</div>"
      ],
      "text/plain": [
       "    0      1    2    3         4        5         6      7      8        9   \\\n",
       "0  اید  ایشان  ایم  این  این جوری  این قدر  این گونه  اینان  اینجا  اینجاست   \n",
       "\n",
       "     10      11      12     13       14    15       16    17     18       19  \n",
       "0  ایند  اینطور  اینقدر  اینها  اینهاست  اینو  اینچنین  اینک  اینکه  اینگونه  "
      ]
     },
     "execution_count": 96,
     "metadata": {},
     "output_type": "execute_result"
    }
   ],
   "source": [
    "stopwords_root = 'persian-stopwords'\n",
    "\n",
    "with open(os.path.join(stopwords_root, 'persian'), encoding='utf-8') as stopwords_file:\n",
    "    stopwords = [re.sub(r'\\n','',word) for word in stopwords_file]\n",
    "pd.DataFrame([stopwords[150:170]])"
   ]
  },
  {
   "cell_type": "markdown",
   "metadata": {},
   "source": [
    "Now we remove all stopwords from our dataset."
   ]
  },
  {
   "cell_type": "code",
   "execution_count": 101,
   "metadata": {},
   "outputs": [
    {
     "name": "stdout",
     "output_type": "stream",
     "text": [
      "['افتخار', 'قید', 'ماندن', 'در', 'ه', 'مدیره', 'استقلال', 'را', 'ه', 'زد#زن']\n",
      "['افتخار', 'قید', 'ماندن', 'مدیره', 'استقلال', 'زد#زن']\n"
     ]
    }
   ],
   "source": [
    "def filter_words(words_list, stopwords=stopwords):\n",
    "    \"\"\"\n",
    "    Gets a list of words and remove stopwords from that list.\n",
    "    \n",
    "    :param words_list: a list of words to apply stopwords\n",
    "    :param stopwords: a list of stopwords to remove from words_list\n",
    "    \"\"\"\n",
    "    if words_list is None:\n",
    "        return None\n",
    "    filtered_words = [word for word in words_list if word not in stopwords]\n",
    "    return filtered_words\n",
    "\n",
    "s = news.title[0]\n",
    "print(s)\n",
    "s_filtered = filter_words(s, stopwords)\n",
    "print(s_filtered)"
   ]
  },
  {
   "cell_type": "code",
   "execution_count": 102,
   "metadata": {},
   "outputs": [],
   "source": [
    "news['body'] = news['body'].apply(filter_words)\n",
    "news['rutitr'] = news['rutitr'].apply(filter_words)\n",
    "news['subtitle'] = news['subtitle'].apply(filter_words)\n",
    "news['title'] = news['title'].apply(filter_words)"
   ]
  },
  {
   "cell_type": "code",
   "execution_count": 103,
   "metadata": {},
   "outputs": [
    {
     "data": {
      "text/plain": [
       "['افتخار', 'قید', 'ماندن', 'مدیره', 'استقلال', 'زد#زن']"
      ]
     },
     "execution_count": 103,
     "metadata": {},
     "output_type": "execute_result"
    }
   ],
   "source": [
    "news.title[0]"
   ]
  },
  {
   "cell_type": "markdown",
   "metadata": {},
   "source": [
    "# Feature Engineering\n",
    "The inherent unstructured (no neatly formatted data columns!) and noisy nature of textual data makes it harder for machine learning methods to directly work on raw text data.\n",
    "\n",
    "##### Motivation\n",
    "The importance of feature engineering is even more important for unstructured, textual data because we need to convert free flowing text into some numeric representations which can then be understood by machine learning algorithms."
   ]
  },
  {
   "cell_type": "markdown",
   "metadata": {},
   "source": [
    "### Feature Engineering Strategies\n",
    "We try different methods and compare result using F1, precision and recall score gathered by result of different machine learning methods."
   ]
  },
  {
   "cell_type": "markdown",
   "metadata": {},
   "source": [
    "#### Import Libraries"
   ]
  },
  {
   "cell_type": "code",
   "execution_count": 38,
   "metadata": {},
   "outputs": [],
   "source": [
    "import pandas as pd\n",
    "import numpy as np\n",
    "import re\n",
    "import nltk\n",
    "import matplotlib.pyplot as plt\n",
    "\n",
    "%matplotlib inline"
   ]
  },
  {
   "cell_type": "code",
   "execution_count": 40,
   "metadata": {},
   "outputs": [
    {
     "data": {
      "text/plain": [
       "['arabic',\n",
       " 'azerbaijani',\n",
       " 'danish',\n",
       " 'dutch',\n",
       " 'english',\n",
       " 'finnish',\n",
       " 'french',\n",
       " 'german',\n",
       " 'greek',\n",
       " 'hungarian',\n",
       " 'indonesian',\n",
       " 'italian',\n",
       " 'kazakh',\n",
       " 'nepali',\n",
       " 'norwegian',\n",
       " 'portuguese',\n",
       " 'romanian',\n",
       " 'russian',\n",
       " 'spanish',\n",
       " 'swedish',\n",
       " 'turkish']"
      ]
     },
     "execution_count": 40,
     "metadata": {},
     "output_type": "execute_result"
    }
   ],
   "source": []
  },
  {
   "cell_type": "markdown",
   "metadata": {},
   "source": [
    "# Model Selection"
   ]
  },
  {
   "cell_type": "code",
   "execution_count": null,
   "metadata": {},
   "outputs": [],
   "source": []
  },
  {
   "cell_type": "markdown",
   "metadata": {},
   "source": [
    "## Naive Bayes"
   ]
  },
  {
   "cell_type": "code",
   "execution_count": null,
   "metadata": {},
   "outputs": [],
   "source": []
  },
  {
   "cell_type": "markdown",
   "metadata": {},
   "source": [
    "## Logistic Regression"
   ]
  },
  {
   "cell_type": "code",
   "execution_count": null,
   "metadata": {},
   "outputs": [],
   "source": []
  },
  {
   "cell_type": "markdown",
   "metadata": {},
   "source": [
    "## SVM"
   ]
  },
  {
   "cell_type": "code",
   "execution_count": null,
   "metadata": {},
   "outputs": [],
   "source": []
  },
  {
   "cell_type": "markdown",
   "metadata": {},
   "source": [
    "## Simple ANN"
   ]
  },
  {
   "cell_type": "code",
   "execution_count": null,
   "metadata": {},
   "outputs": [],
   "source": []
  },
  {
   "cell_type": "markdown",
   "metadata": {},
   "source": [
    "## CNN"
   ]
  },
  {
   "cell_type": "code",
   "execution_count": null,
   "metadata": {},
   "outputs": [],
   "source": []
  },
  {
   "cell_type": "markdown",
   "metadata": {},
   "source": [
    "## RNN"
   ]
  },
  {
   "cell_type": "code",
   "execution_count": null,
   "metadata": {},
   "outputs": [],
   "source": []
  },
  {
   "cell_type": "markdown",
   "metadata": {},
   "source": [
    "## CNN + RNN"
   ]
  },
  {
   "cell_type": "code",
   "execution_count": null,
   "metadata": {},
   "outputs": [],
   "source": []
  }
 ],
 "metadata": {
  "kernelspec": {
   "display_name": "Python 3",
   "language": "python",
   "name": "python3"
  },
  "language_info": {
   "codemirror_mode": {
    "name": "ipython",
    "version": 3
   },
   "file_extension": ".py",
   "mimetype": "text/x-python",
   "name": "python",
   "nbconvert_exporter": "python",
   "pygments_lexer": "ipython3",
   "version": "3.6.6"
  }
 },
 "nbformat": 4,
 "nbformat_minor": 2
}
